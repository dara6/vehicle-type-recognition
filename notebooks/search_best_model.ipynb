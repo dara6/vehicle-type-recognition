{
 "cells": [
  {
   "cell_type": "markdown",
   "metadata": {
    "tags": []
   },
   "source": [
    "## Dataset"
   ]
  },
  {
   "cell_type": "markdown",
   "metadata": {
    "id": "upqGPuRVzwYc",
    "tags": []
   },
   "source": [
    "### Load dataset from Kaggle (uncomment if needed)"
   ]
  },
  {
   "cell_type": "code",
   "execution_count": 1,
   "metadata": {
    "execution": {
     "iopub.execute_input": "2024-05-10T12:24:04.483161Z",
     "iopub.status.busy": "2024-05-10T12:24:04.482754Z",
     "iopub.status.idle": "2024-05-10T12:24:04.496679Z",
     "shell.execute_reply": "2024-05-10T12:24:04.496028Z",
     "shell.execute_reply.started": "2024-05-10T12:24:04.483136Z"
    },
    "id": "uN3wnGMuzu0L",
    "tags": []
   },
   "outputs": [],
   "source": [
    "# !mkdir -p /root/.kaggle/\n",
    "# !echo '{\"username\":\"tibid94554sha\",\"key\":\"57419f0675a80ab30fa664dc16a396bb\"}' > /root/.kaggle/kaggle.json\n",
    "# !chmod 600 /root/.kaggle/kaggle.json"
   ]
  },
  {
   "cell_type": "code",
   "execution_count": 2,
   "metadata": {
    "colab": {
     "base_uri": "https://localhost:8080/"
    },
    "execution": {
     "iopub.execute_input": "2024-05-10T12:24:05.305325Z",
     "iopub.status.busy": "2024-05-10T12:24:05.304924Z",
     "iopub.status.idle": "2024-05-10T12:24:05.320697Z",
     "shell.execute_reply": "2024-05-10T12:24:05.320149Z",
     "shell.execute_reply.started": "2024-05-10T12:24:05.305301Z"
    },
    "id": "bH7Ii-6L0Zme",
    "outputId": "2890b1fe-bee8-48f8-ad48-7877e1ec8c44",
    "tags": []
   },
   "outputs": [],
   "source": [
    "# !kaggle competitions download -c vehicle"
   ]
  },
  {
   "cell_type": "code",
   "execution_count": null,
   "metadata": {
    "tags": []
   },
   "outputs": [],
   "source": [
    "# !unzip -qq vehicle.zip"
   ]
  },
  {
   "cell_type": "markdown",
   "metadata": {
    "id": "PSgmQKjLJCdM",
    "tags": []
   },
   "source": [
    "### Load dataset from Google Drive (uncomment if needed)"
   ]
  },
  {
   "cell_type": "code",
   "execution_count": 4,
   "metadata": {
    "colab": {
     "base_uri": "https://localhost:8080/"
    },
    "execution": {
     "iopub.execute_input": "2024-05-10T12:24:06.867664Z",
     "iopub.status.busy": "2024-05-10T12:24:06.867106Z",
     "iopub.status.idle": "2024-05-10T12:24:06.878372Z",
     "shell.execute_reply": "2024-05-10T12:24:06.877789Z",
     "shell.execute_reply.started": "2024-05-10T12:24:06.867637Z"
    },
    "id": "4AOt1ub5HPgg",
    "outputId": "25d7d708-b4a7-486d-d42c-eb0d9e065706",
    "tags": []
   },
   "outputs": [],
   "source": [
    "# from google.colab import drive\n",
    "# drive.mount('/content/drive')"
   ]
  },
  {
   "cell_type": "code",
   "execution_count": 5,
   "metadata": {
    "execution": {
     "iopub.execute_input": "2024-05-10T12:24:07.263307Z",
     "iopub.status.busy": "2024-05-10T12:24:07.262764Z",
     "iopub.status.idle": "2024-05-10T12:24:07.282545Z",
     "shell.execute_reply": "2024-05-10T12:24:07.281991Z",
     "shell.execute_reply.started": "2024-05-10T12:24:07.263282Z"
    },
    "id": "1zWhqhY8JqhA",
    "tags": []
   },
   "outputs": [],
   "source": [
    "# !cp /content/drive/MyDrive/vehicle.zip /content/vehicle.zip"
   ]
  },
  {
   "cell_type": "code",
   "execution_count": 6,
   "metadata": {
    "execution": {
     "iopub.execute_input": "2024-05-10T12:24:07.648226Z",
     "iopub.status.busy": "2024-05-10T12:24:07.647843Z",
     "iopub.status.idle": "2024-05-10T12:24:07.673611Z",
     "shell.execute_reply": "2024-05-10T12:24:07.673057Z",
     "shell.execute_reply.started": "2024-05-10T12:24:07.648204Z"
    },
    "id": "yNmDsRpzOjkK",
    "tags": []
   },
   "outputs": [],
   "source": [
    "# !unzip -qq vehicle.zip"
   ]
  },
  {
   "cell_type": "markdown",
   "metadata": {
    "id": "2gedE1-VJWG8",
    "tags": []
   },
   "source": [
    "### Save dataset to Google Drive (uncomment if needed)"
   ]
  },
  {
   "cell_type": "code",
   "execution_count": 7,
   "metadata": {
    "execution": {
     "iopub.execute_input": "2024-05-10T12:24:08.198863Z",
     "iopub.status.busy": "2024-05-10T12:24:08.198335Z",
     "iopub.status.idle": "2024-05-10T12:24:08.212637Z",
     "shell.execute_reply": "2024-05-10T12:24:08.212079Z",
     "shell.execute_reply.started": "2024-05-10T12:24:08.198838Z"
    },
    "id": "zmV3U6LBJpfJ",
    "tags": []
   },
   "outputs": [],
   "source": [
    "# from google.colab import drive\n",
    "# drive.mount('/content/drive')"
   ]
  },
  {
   "cell_type": "code",
   "execution_count": 8,
   "metadata": {
    "colab": {
     "base_uri": "https://localhost:8080/"
    },
    "execution": {
     "iopub.execute_input": "2024-05-10T12:24:08.578091Z",
     "iopub.status.busy": "2024-05-10T12:24:08.577507Z",
     "iopub.status.idle": "2024-05-10T12:24:08.587896Z",
     "shell.execute_reply": "2024-05-10T12:24:08.587350Z",
     "shell.execute_reply.started": "2024-05-10T12:24:08.578053Z"
    },
    "id": "HvvTk_RwJZW3",
    "outputId": "f7f102d6-ecf4-422f-a5f1-c44ee890265c",
    "tags": []
   },
   "outputs": [],
   "source": [
    "# !cp /content/vehicle.zip /content/drive/MyDrive/vehicle.zip"
   ]
  },
  {
   "cell_type": "markdown",
   "metadata": {
    "id": "man0UyAcJFnx",
    "tags": []
   },
   "source": [
    "### Check dataset exists"
   ]
  },
  {
   "cell_type": "code",
   "execution_count": 9,
   "metadata": {
    "execution": {
     "iopub.execute_input": "2024-05-10T12:24:09.094635Z",
     "iopub.status.busy": "2024-05-10T12:24:09.094027Z",
     "iopub.status.idle": "2024-05-10T12:24:09.121390Z",
     "shell.execute_reply": "2024-05-10T12:24:09.120836Z",
     "shell.execute_reply.started": "2024-05-10T12:24:09.094609Z"
    },
    "tags": []
   },
   "outputs": [
    {
     "name": "stdout",
     "output_type": "stream",
     "text": [
      "В директории train/train/Ambulance есть файлы.\n",
      "В директории train/train/Barge есть файлы.\n",
      "В директории train/train/Bicycle есть файлы.\n",
      "В директории train/train/Boat есть файлы.\n",
      "В директории train/train/Bus есть файлы.\n",
      "В директории train/train/Car есть файлы.\n",
      "В директории train/train/Cart есть файлы.\n",
      "В директории train/train/Caterpillar есть файлы.\n",
      "В директории train/train/Helicopter есть файлы.\n",
      "В директории train/train/Limousine есть файлы.\n",
      "В директории train/train/Motorcycle есть файлы.\n",
      "В директории train/train/Segway есть файлы.\n",
      "В директории train/train/Snowmobile есть файлы.\n",
      "В директории train/train/Tank есть файлы.\n",
      "В директории train/train/Taxi есть файлы.\n",
      "В директории train/train/Truck есть файлы.\n",
      "В директории train/train/Van есть файлы.\n"
     ]
    }
   ],
   "source": [
    "import os\n",
    "\n",
    "# Путь к директории верхнего уровня\n",
    "base_dir = 'train/train'\n",
    "\n",
    "# Проверяем, существует ли директория\n",
    "if not os.path.exists(base_dir):\n",
    "    print(f\"Директория {base_dir} не существует.\")\n",
    "else:\n",
    "    # Получаем список всех объектов в директории\n",
    "    subdirectories = os.listdir(base_dir)\n",
    "\n",
    "    # Флаг для отслеживания наличия хотя бы одной непустой поддиректории\n",
    "    found_non_empty = False\n",
    "\n",
    "    for subdir in subdirectories:\n",
    "        subdir_path = os.path.join(base_dir, subdir)\n",
    "\n",
    "        # Проверяем, является ли объект директорией\n",
    "        if os.path.isdir(subdir_path):\n",
    "            # Проверяем, не пуста ли директория\n",
    "            if not os.listdir(subdir_path):\n",
    "                print(f\"Директория {subdir_path} пуста.\")\n",
    "            else:\n",
    "                print(f\"В директории {subdir_path} есть файлы.\")\n",
    "                found_non_empty = True\n",
    "        else:\n",
    "            print(f\"{subdir_path} не является директорией.\")\n",
    "\n",
    "    if not found_non_empty:\n",
    "        print(\"Не найдены непустые поддиректории.\")\n",
    "        assert False\n"
   ]
  },
  {
   "cell_type": "markdown",
   "metadata": {
    "id": "iwfgThS2rA6S",
    "tags": []
   },
   "source": [
    "## Base imports"
   ]
  },
  {
   "cell_type": "code",
   "execution_count": 10,
   "metadata": {
    "execution": {
     "iopub.execute_input": "2024-05-10T12:24:10.451341Z",
     "iopub.status.busy": "2024-05-10T12:24:10.450768Z",
     "iopub.status.idle": "2024-05-10T12:24:10.485583Z",
     "shell.execute_reply": "2024-05-10T12:24:10.484992Z",
     "shell.execute_reply.started": "2024-05-10T12:24:10.451315Z"
    },
    "id": "LIPYonhprGLx",
    "tags": []
   },
   "outputs": [],
   "source": [
    "import cv2\n",
    "import pandas as pd\n",
    "from matplotlib import pyplot as plt\n",
    "import numpy as np"
   ]
  },
  {
   "cell_type": "markdown",
   "metadata": {
    "id": "qh8evj8YlRd8",
    "tags": []
   },
   "source": [
    "## Read data"
   ]
  },
  {
   "cell_type": "code",
   "execution_count": 11,
   "metadata": {
    "execution": {
     "iopub.execute_input": "2024-05-10T12:24:11.132668Z",
     "iopub.status.busy": "2024-05-10T12:24:11.132094Z",
     "iopub.status.idle": "2024-05-10T12:24:11.205077Z",
     "shell.execute_reply": "2024-05-10T12:24:11.204492Z",
     "shell.execute_reply.started": "2024-05-10T12:24:11.132640Z"
    },
    "id": "jM4gi_VXrHZi",
    "tags": []
   },
   "outputs": [
    {
     "name": "stdout",
     "output_type": "stream",
     "text": [
      "Train data: 28045\n"
     ]
    }
   ],
   "source": [
    "import os\n",
    "\n",
    "root_train = './train/train/'\n",
    "\n",
    "data_train = []\n",
    "\n",
    "for category in sorted(os.listdir(root_train)):\n",
    "    for file in sorted(os.listdir(os.path.join(root_train, category))):\n",
    "        data_train.append((category, os.path.join(root_train, category, file)))\n",
    "\n",
    "print(f'Train data: {len(data_train)}')"
   ]
  },
  {
   "cell_type": "markdown",
   "metadata": {
    "tags": []
   },
   "source": [
    "### Create data frame"
   ]
  },
  {
   "cell_type": "code",
   "execution_count": 12,
   "metadata": {
    "execution": {
     "iopub.execute_input": "2024-05-10T12:24:14.043342Z",
     "iopub.status.busy": "2024-05-10T12:24:14.042949Z",
     "iopub.status.idle": "2024-05-10T12:24:14.365199Z",
     "shell.execute_reply": "2024-05-10T12:24:14.364328Z",
     "shell.execute_reply.started": "2024-05-10T12:24:14.043321Z"
    },
    "id": "3C3UOI01lL6c",
    "tags": []
   },
   "outputs": [
    {
     "data": {
      "text/html": [
       "<div>\n",
       "<style scoped>\n",
       "    .dataframe tbody tr th:only-of-type {\n",
       "        vertical-align: middle;\n",
       "    }\n",
       "\n",
       "    .dataframe tbody tr th {\n",
       "        vertical-align: top;\n",
       "    }\n",
       "\n",
       "    .dataframe thead th {\n",
       "        text-align: right;\n",
       "    }\n",
       "</style>\n",
       "<table border=\"1\" class=\"dataframe\">\n",
       "  <thead>\n",
       "    <tr style=\"text-align: right;\">\n",
       "      <th></th>\n",
       "      <th>class</th>\n",
       "      <th>file_path</th>\n",
       "      <th>class_</th>\n",
       "    </tr>\n",
       "  </thead>\n",
       "  <tbody>\n",
       "    <tr>\n",
       "      <th>0</th>\n",
       "      <td>Ambulance</td>\n",
       "      <td>./train/train/Ambulance/000040_09.jpg</td>\n",
       "      <td>0</td>\n",
       "    </tr>\n",
       "    <tr>\n",
       "      <th>1</th>\n",
       "      <td>Ambulance</td>\n",
       "      <td>./train/train/Ambulance/000050_10.jpg</td>\n",
       "      <td>0</td>\n",
       "    </tr>\n",
       "    <tr>\n",
       "      <th>2</th>\n",
       "      <td>Ambulance</td>\n",
       "      <td>./train/train/Ambulance/000052_03.jpg</td>\n",
       "      <td>0</td>\n",
       "    </tr>\n",
       "    <tr>\n",
       "      <th>3</th>\n",
       "      <td>Ambulance</td>\n",
       "      <td>./train/train/Ambulance/000057_04.jpg</td>\n",
       "      <td>0</td>\n",
       "    </tr>\n",
       "    <tr>\n",
       "      <th>4</th>\n",
       "      <td>Ambulance</td>\n",
       "      <td>./train/train/Ambulance/000067_14.jpg</td>\n",
       "      <td>0</td>\n",
       "    </tr>\n",
       "  </tbody>\n",
       "</table>\n",
       "</div>"
      ],
      "text/plain": [
       "       class                              file_path  class_\n",
       "0  Ambulance  ./train/train/Ambulance/000040_09.jpg       0\n",
       "1  Ambulance  ./train/train/Ambulance/000050_10.jpg       0\n",
       "2  Ambulance  ./train/train/Ambulance/000052_03.jpg       0\n",
       "3  Ambulance  ./train/train/Ambulance/000057_04.jpg       0\n",
       "4  Ambulance  ./train/train/Ambulance/000067_14.jpg       0"
      ]
     },
     "execution_count": 12,
     "metadata": {},
     "output_type": "execute_result"
    }
   ],
   "source": [
    "from sklearn.preprocessing import LabelEncoder\n",
    "\n",
    "class_encoder = LabelEncoder()\n",
    "\n",
    "df = pd.DataFrame(data_train, columns=['class','file_path'])\n",
    "df['class_'] = class_encoder.fit_transform(df['class'])\n",
    "\n",
    "df.head()"
   ]
  },
  {
   "cell_type": "markdown",
   "metadata": {
    "tags": []
   },
   "source": [
    "### Decrease data frame"
   ]
  },
  {
   "cell_type": "code",
   "execution_count": 13,
   "metadata": {
    "execution": {
     "iopub.execute_input": "2024-05-10T12:24:20.198852Z",
     "iopub.status.busy": "2024-05-10T12:24:20.198140Z",
     "iopub.status.idle": "2024-05-10T12:24:20.207858Z",
     "shell.execute_reply": "2024-05-10T12:24:20.207208Z",
     "shell.execute_reply.started": "2024-05-10T12:24:20.198819Z"
    },
    "id": "GXjEG5WFvA8R",
    "tags": []
   },
   "outputs": [],
   "source": [
    "TEST_SIZE = 0.2\n",
    "IMAGE_SIZE = 160\n",
    "BATCH_SIZE = 32\n",
    "\n",
    "CLASSES = ['Boat', 'Car', 'Motorcycle', 'Bus', 'Truck']\n",
    "IMAGES_PER_CLASS = 200"
   ]
  },
  {
   "cell_type": "code",
   "execution_count": 14,
   "metadata": {
    "execution": {
     "iopub.execute_input": "2024-05-10T12:24:20.935200Z",
     "iopub.status.busy": "2024-05-10T12:24:20.934509Z",
     "iopub.status.idle": "2024-05-10T12:24:20.969301Z",
     "shell.execute_reply": "2024-05-10T12:24:20.968605Z",
     "shell.execute_reply.started": "2024-05-10T12:24:20.935167Z"
    },
    "tags": []
   },
   "outputs": [
    {
     "data": {
      "text/html": [
       "<div>\n",
       "<style scoped>\n",
       "    .dataframe tbody tr th:only-of-type {\n",
       "        vertical-align: middle;\n",
       "    }\n",
       "\n",
       "    .dataframe tbody tr th {\n",
       "        vertical-align: top;\n",
       "    }\n",
       "\n",
       "    .dataframe thead th {\n",
       "        text-align: right;\n",
       "    }\n",
       "</style>\n",
       "<table border=\"1\" class=\"dataframe\">\n",
       "  <thead>\n",
       "    <tr style=\"text-align: right;\">\n",
       "      <th></th>\n",
       "      <th>class</th>\n",
       "      <th>file_path</th>\n",
       "      <th>class_</th>\n",
       "    </tr>\n",
       "  </thead>\n",
       "  <tbody>\n",
       "    <tr>\n",
       "      <th>1952</th>\n",
       "      <td>Boat</td>\n",
       "      <td>./train/train/Boat/000002_14.jpg</td>\n",
       "      <td>3</td>\n",
       "    </tr>\n",
       "    <tr>\n",
       "      <th>1953</th>\n",
       "      <td>Boat</td>\n",
       "      <td>./train/train/Boat/000003_04.jpg</td>\n",
       "      <td>3</td>\n",
       "    </tr>\n",
       "    <tr>\n",
       "      <th>1954</th>\n",
       "      <td>Boat</td>\n",
       "      <td>./train/train/Boat/000003_09.jpg</td>\n",
       "      <td>3</td>\n",
       "    </tr>\n",
       "    <tr>\n",
       "      <th>1955</th>\n",
       "      <td>Boat</td>\n",
       "      <td>./train/train/Boat/000004_03.jpg</td>\n",
       "      <td>3</td>\n",
       "    </tr>\n",
       "    <tr>\n",
       "      <th>1956</th>\n",
       "      <td>Boat</td>\n",
       "      <td>./train/train/Boat/000004_11.jpg</td>\n",
       "      <td>3</td>\n",
       "    </tr>\n",
       "  </tbody>\n",
       "</table>\n",
       "</div>"
      ],
      "text/plain": [
       "     class                         file_path  class_\n",
       "1952  Boat  ./train/train/Boat/000002_14.jpg       3\n",
       "1953  Boat  ./train/train/Boat/000003_04.jpg       3\n",
       "1954  Boat  ./train/train/Boat/000003_09.jpg       3\n",
       "1955  Boat  ./train/train/Boat/000004_03.jpg       3\n",
       "1956  Boat  ./train/train/Boat/000004_11.jpg       3"
      ]
     },
     "execution_count": 14,
     "metadata": {},
     "output_type": "execute_result"
    }
   ],
   "source": [
    "def subset_classes(data, classes, max_per_class):\n",
    "    result_df = pd.DataFrame()\n",
    "    for cls in classes:\n",
    "        class_subset = data[data['class'] == cls].head(max_per_class)\n",
    "        result_df = pd.concat([result_df, class_subset])\n",
    "\n",
    "    return result_df\n",
    "\n",
    "new_df = subset_classes(df, CLASSES, IMAGES_PER_CLASS)\n",
    "new_df.head()"
   ]
  },
  {
   "cell_type": "markdown",
   "metadata": {
    "id": "nLAwTjUTllA3",
    "tags": []
   },
   "source": [
    "### Example image"
   ]
  },
  {
   "cell_type": "code",
   "execution_count": 15,
   "metadata": {
    "execution": {
     "iopub.execute_input": "2024-05-10T12:24:22.118888Z",
     "iopub.status.busy": "2024-05-10T12:24:22.118461Z",
     "iopub.status.idle": "2024-05-10T12:24:22.540016Z",
     "shell.execute_reply": "2024-05-10T12:24:22.539289Z",
     "shell.execute_reply.started": "2024-05-10T12:24:22.118860Z"
    },
    "id": "zwhTGJMClL-D",
    "tags": []
   },
   "outputs": [
    {
     "data": {
      "text/plain": [
       "<matplotlib.image.AxesImage at 0x7f259eee5390>"
      ]
     },
     "execution_count": 15,
     "metadata": {},
     "output_type": "execute_result"
    },
    {
     "data": {
      "image/png": "[encoded data removed]",
      "text/plain": [
       "<Figure size 432x288 with 1 Axes>"
      ]
     },
     "metadata": {
      "needs_background": "light"
     },
     "output_type": "display_data"
    }
   ],
   "source": [
    "example_file_path = data_train[0][1]\n",
    "\n",
    "img = cv2.imread(example_file_path)\n",
    "plt.imshow(img)"
   ]
  },
  {
   "cell_type": "markdown",
   "metadata": {
    "id": "Ul82idP2lxRD",
    "tags": []
   },
   "source": [
    "### Wavelet transform"
   ]
  },
  {
   "cell_type": "code",
   "execution_count": 16,
   "metadata": {
    "execution": {
     "iopub.execute_input": "2024-05-10T12:24:23.368334Z",
     "iopub.status.busy": "2024-05-10T12:24:23.367885Z",
     "iopub.status.idle": "2024-05-10T12:24:23.615314Z",
     "shell.execute_reply": "2024-05-10T12:24:23.614524Z",
     "shell.execute_reply.started": "2024-05-10T12:24:23.368306Z"
    },
    "id": "WxrCvheilMBm",
    "tags": []
   },
   "outputs": [
    {
     "data": {
      "text/plain": [
       "<matplotlib.image.AxesImage at 0x7f259b08fb20>"
      ]
     },
     "execution_count": 16,
     "metadata": {},
     "output_type": "execute_result"
    },
    {
     "data": {
      "image/png": "[encoded data removed]",
      "text/plain": [
       "<Figure size 432x288 with 1 Axes>"
      ]
     },
     "metadata": {
      "needs_background": "light"
     },
     "output_type": "display_data"
    }
   ],
   "source": [
    "import pywt\n",
    "\n",
    "def w2d(img, mode='haar', level=1):\n",
    "    imArray = img\n",
    "\n",
    "    # Datatype conversions\n",
    "    # convert to grayscale\n",
    "    imArray = cv2.cvtColor(imArray, cv2.COLOR_RGB2GRAY)\n",
    "\n",
    "    # convert to float\n",
    "    imArray =  np.float32(imArray)\n",
    "    imArray /= 255;\n",
    "\n",
    "    # compute coefficients\n",
    "    coeffs = pywt.wavedec2(imArray, mode, level=level)\n",
    "\n",
    "    # Process Coefficients\n",
    "    coeffs_H = list(coeffs)\n",
    "    coeffs_H[0] *= 0;\n",
    "\n",
    "    # reconstruction\n",
    "    imArray_H = pywt.waverec2(coeffs_H, mode);\n",
    "    imArray_H *= 255;\n",
    "    imArray_H =  np.uint8(imArray_H)\n",
    "\n",
    "    return imArray_H\n",
    "\n",
    "\n",
    "im_har = w2d(img, 'db1', 1)\n",
    "plt.imshow(im_har, cmap='gray')"
   ]
  },
  {
   "cell_type": "markdown",
   "metadata": {
    "id": "rL2Kwc9ZnY-y",
    "tags": []
   },
   "source": [
    "## Statistics models"
   ]
  },
  {
   "cell_type": "markdown",
   "metadata": {
    "id": "nCVJFGJbn_bw",
    "tags": []
   },
   "source": [
    "### Prepare data"
   ]
  },
  {
   "cell_type": "code",
   "execution_count": 17,
   "metadata": {
    "execution": {
     "iopub.execute_input": "2024-05-10T12:24:25.387354Z",
     "iopub.status.busy": "2024-05-10T12:24:25.386898Z",
     "iopub.status.idle": "2024-05-10T12:25:45.166047Z",
     "shell.execute_reply": "2024-05-10T12:25:45.164986Z",
     "shell.execute_reply.started": "2024-05-10T12:24:25.387325Z"
    },
    "id": "61C5Gm2DvBBs",
    "tags": []
   },
   "outputs": [],
   "source": [
    "from sklearn.model_selection import train_test_split\n",
    "\n",
    "def load_and_prepare_img(file_path):\n",
    "    img = cv2.imread(file_path)\n",
    "    w2d_img = w2d(img, 'db1', 5)\n",
    "    cmb_img = np.vstack((\n",
    "        cv2.resize(img, (IMAGE_SIZE, IMAGE_SIZE)).reshape(-1, 1),\n",
    "        cv2.resize(w2d_img, (IMAGE_SIZE, IMAGE_SIZE)).reshape(-1, 1)\n",
    "    ))\n",
    "    return cmb_img.reshape(-1, 1).astype(np.float64)\n",
    "\n",
    "def load_and_prepare(X_file_path):\n",
    "    X = X_file_path.apply(load_and_prepare_img)\n",
    "    return np.stack(X).reshape(len(X), -1)\n",
    "\n",
    "\n",
    "X = load_and_prepare(new_df['file_path'])\n",
    "y = new_df['class_']\n",
    "\n",
    "X_train, X_test, y_train, y_test = train_test_split(X, y)"
   ]
  },
  {
   "cell_type": "markdown",
   "metadata": {
    "tags": []
   },
   "source": [
    "### Train test model"
   ]
  },
  {
   "cell_type": "code",
   "execution_count": 18,
   "metadata": {
    "execution": {
     "iopub.execute_input": "2024-05-10T12:25:45.168898Z",
     "iopub.status.busy": "2024-05-10T12:25:45.168319Z",
     "iopub.status.idle": "2024-05-10T12:26:28.143023Z",
     "shell.execute_reply": "2024-05-10T12:26:28.141924Z",
     "shell.execute_reply.started": "2024-05-10T12:25:45.168845Z"
    },
    "id": "oC1LB6I2vBK4",
    "tags": []
   },
   "outputs": [
    {
     "name": "stdout",
     "output_type": "stream",
     "text": [
      "Accuracy:  0.448\n"
     ]
    }
   ],
   "source": [
    "from sklearn.svm import SVC\n",
    "from sklearn.preprocessing import StandardScaler\n",
    "from sklearn.pipeline import Pipeline\n",
    "\n",
    "pipe = Pipeline([('scaler', StandardScaler()), ('svc', SVC(kernel = 'rbf'))])\n",
    "pipe.fit(X_train, y_train)\n",
    "print('Accuracy: ', pipe.score(X_test, y_test))"
   ]
  },
  {
   "cell_type": "markdown",
   "metadata": {
    "tags": []
   },
   "source": [
    "### Get best params and model"
   ]
  },
  {
   "cell_type": "code",
   "execution_count": 19,
   "metadata": {
    "execution": {
     "iopub.execute_input": "2024-05-10T12:26:28.147509Z",
     "iopub.status.busy": "2024-05-10T12:26:28.146440Z",
     "iopub.status.idle": "2024-05-10T12:26:28.198768Z",
     "shell.execute_reply": "2024-05-10T12:26:28.197831Z",
     "shell.execute_reply.started": "2024-05-10T12:26:28.147466Z"
    },
    "id": "XH14s4xqvBUg",
    "tags": []
   },
   "outputs": [],
   "source": [
    "from sklearn.svm import SVC\n",
    "from sklearn.ensemble import RandomForestClassifier\n",
    "from sklearn.linear_model import LogisticRegression\n",
    "\n",
    "model_params = {\n",
    "    'svm': {\n",
    "        'model': SVC(gamma='auto',probability=True),\n",
    "        'params' : {\n",
    "            'svc__C': [1, 10, 100],\n",
    "            'svc__kernel': ['rbf','linear']\n",
    "        }\n",
    "    },\n",
    "    'random_forest': {\n",
    "        'model': RandomForestClassifier(),\n",
    "        'params' : {\n",
    "            'randomforestclassifier__n_estimators': [1, 5, 10]\n",
    "        }\n",
    "    },\n",
    "    'logistic_regression' : {\n",
    "        'model': LogisticRegression(solver='liblinear', multi_class='auto'),\n",
    "        'params': {\n",
    "            'logisticregression__C': [1, 5, 10]\n",
    "        }\n",
    "    }\n",
    "}"
   ]
  },
  {
   "cell_type": "code",
   "execution_count": 20,
   "metadata": {
    "execution": {
     "iopub.execute_input": "2024-05-10T12:26:28.202136Z",
     "iopub.status.busy": "2024-05-10T12:26:28.201216Z",
     "iopub.status.idle": "2024-05-10T12:49:16.516045Z",
     "shell.execute_reply": "2024-05-10T12:49:16.515260Z",
     "shell.execute_reply.started": "2024-05-10T12:26:28.202085Z"
    },
    "id": "IytNZs-HvBXA",
    "tags": []
   },
   "outputs": [
    {
     "data": {
      "text/html": [
       "<div>\n",
       "<style scoped>\n",
       "    .dataframe tbody tr th:only-of-type {\n",
       "        vertical-align: middle;\n",
       "    }\n",
       "\n",
       "    .dataframe tbody tr th {\n",
       "        vertical-align: top;\n",
       "    }\n",
       "\n",
       "    .dataframe thead th {\n",
       "        text-align: right;\n",
       "    }\n",
       "</style>\n",
       "<table border=\"1\" class=\"dataframe\">\n",
       "  <thead>\n",
       "    <tr style=\"text-align: right;\">\n",
       "      <th></th>\n",
       "      <th>model</th>\n",
       "      <th>best_score</th>\n",
       "      <th>best_params</th>\n",
       "    </tr>\n",
       "  </thead>\n",
       "  <tbody>\n",
       "    <tr>\n",
       "      <th>0</th>\n",
       "      <td>svm</td>\n",
       "      <td>0.460000</td>\n",
       "      <td>{'svc__C': 10, 'svc__kernel': 'rbf'}</td>\n",
       "    </tr>\n",
       "    <tr>\n",
       "      <th>1</th>\n",
       "      <td>random_forest</td>\n",
       "      <td>0.338667</td>\n",
       "      <td>{'randomforestclassifier__n_estimators': 10}</td>\n",
       "    </tr>\n",
       "    <tr>\n",
       "      <th>2</th>\n",
       "      <td>logistic_regression</td>\n",
       "      <td>0.409333</td>\n",
       "      <td>{'logisticregression__C': 5}</td>\n",
       "    </tr>\n",
       "  </tbody>\n",
       "</table>\n",
       "</div>"
      ],
      "text/plain": [
       "                 model  ...                                   best_params\n",
       "0                  svm  ...          {'svc__C': 10, 'svc__kernel': 'rbf'}\n",
       "1        random_forest  ...  {'randomforestclassifier__n_estimators': 10}\n",
       "2  logistic_regression  ...                  {'logisticregression__C': 5}\n",
       "\n",
       "[3 rows x 3 columns]"
      ]
     },
     "execution_count": 20,
     "metadata": {},
     "output_type": "execute_result"
    }
   ],
   "source": [
    "from sklearn.pipeline import make_pipeline\n",
    "from sklearn.model_selection import GridSearchCV\n",
    "\n",
    "scores = []\n",
    "best_estimators = {}\n",
    "\n",
    "for algo, mp in model_params.items():\n",
    "    pipe = make_pipeline(StandardScaler(), mp['model'])\n",
    "    clf =  GridSearchCV(pipe, mp['params'], cv=5, return_train_score=False, n_jobs=-1)\n",
    "    clf.fit(X_train, y_train)\n",
    "    scores.append({\n",
    "        'model': algo,\n",
    "        'best_score': clf.best_score_,\n",
    "        'best_params': clf.best_params_\n",
    "    })\n",
    "    best_estimators[algo] = clf.best_estimator_\n",
    "\n",
    "models_df = pd.DataFrame(scores, columns=['model','best_score','best_params'])\n",
    "models_df"
   ]
  },
  {
   "cell_type": "code",
   "execution_count": 21,
   "metadata": {
    "execution": {
     "iopub.execute_input": "2024-05-10T12:49:16.518138Z",
     "iopub.status.busy": "2024-05-10T12:49:16.517686Z",
     "iopub.status.idle": "2024-05-10T12:49:49.423542Z",
     "shell.execute_reply": "2024-05-10T12:49:49.421270Z",
     "shell.execute_reply.started": "2024-05-10T12:49:16.518102Z"
    },
    "id": "RG5yoY4xvBZs",
    "tags": []
   },
   "outputs": [
    {
     "name": "stdout",
     "output_type": "stream",
     "text": [
      "SVM accuracy:  0.464\n"
     ]
    }
   ],
   "source": [
    "print('SVM accuracy: ', best_estimators['svm'].score(X_test, y_test))"
   ]
  },
  {
   "cell_type": "code",
   "execution_count": 22,
   "metadata": {
    "execution": {
     "iopub.execute_input": "2024-05-10T12:49:49.432633Z",
     "iopub.status.busy": "2024-05-10T12:49:49.430977Z",
     "iopub.status.idle": "2024-05-10T12:49:49.705957Z",
     "shell.execute_reply": "2024-05-10T12:49:49.705339Z",
     "shell.execute_reply.started": "2024-05-10T12:49:49.432490Z"
    },
    "id": "bzIfFXyGow1V",
    "tags": []
   },
   "outputs": [
    {
     "name": "stdout",
     "output_type": "stream",
     "text": [
      "RandomForest accuracy:  0.328\n"
     ]
    }
   ],
   "source": [
    "print('RandomForest accuracy: ', best_estimators['random_forest'].score(X_test, y_test))"
   ]
  },
  {
   "cell_type": "code",
   "execution_count": 23,
   "metadata": {
    "execution": {
     "iopub.execute_input": "2024-05-10T12:49:49.707180Z",
     "iopub.status.busy": "2024-05-10T12:49:49.706809Z",
     "iopub.status.idle": "2024-05-10T12:49:49.884046Z",
     "shell.execute_reply": "2024-05-10T12:49:49.883336Z",
     "shell.execute_reply.started": "2024-05-10T12:49:49.707160Z"
    },
    "id": "BngrfDFnpxeg",
    "tags": []
   },
   "outputs": [
    {
     "name": "stdout",
     "output_type": "stream",
     "text": [
      "LogisticRegression accuracy:  0.44\n"
     ]
    }
   ],
   "source": [
    "print('LogisticRegression accuracy: ', best_estimators['logistic_regression'].score(X_test, y_test))"
   ]
  },
  {
   "cell_type": "markdown",
   "metadata": {
    "id": "8d8nkuhzpx0W",
    "tags": []
   },
   "source": [
    "### Visualization of the best model"
   ]
  },
  {
   "cell_type": "code",
   "execution_count": 24,
   "metadata": {
    "execution": {
     "iopub.execute_input": "2024-05-10T12:49:49.888165Z",
     "iopub.status.busy": "2024-05-10T12:49:49.887495Z",
     "iopub.status.idle": "2024-05-10T12:50:21.939589Z",
     "shell.execute_reply": "2024-05-10T12:50:21.938857Z",
     "shell.execute_reply.started": "2024-05-10T12:49:49.888135Z"
    },
    "tags": []
   },
   "outputs": [
    {
     "data": {
      "text/plain": [
       "Text(69.0, 0.5, 'Truth')"
      ]
     },
     "execution_count": 24,
     "metadata": {},
     "output_type": "execute_result"
    },
    {
     "data": {
      "image/png": "[encoded data removed]",
      "text/plain": [
       "<Figure size 720x504 with 2 Axes>"
      ]
     },
     "metadata": {
      "needs_background": "light"
     },
     "output_type": "display_data"
    }
   ],
   "source": [
    "import seaborn as sn\n",
    "from sklearn.metrics import confusion_matrix\n",
    "\n",
    "best_clf = best_estimators['svm']\n",
    "cm = confusion_matrix(y_test, best_clf.predict(X_test))\n",
    "\n",
    "plt.figure(figsize = (10, 7))\n",
    "sn.heatmap(cm, annot=True)\n",
    "plt.xlabel('Predicted')\n",
    "plt.ylabel('Truth')"
   ]
  },
  {
   "cell_type": "markdown",
   "metadata": {
    "execution": {
     "iopub.status.busy": "2024-05-07T15:41:40.621577522Z",
     "iopub.status.idle": "2024-05-07T15:41:40.653672496Z",
     "shell.execute_reply": "2024-05-07T15:41:40.621517500Z"
    },
    "tags": []
   },
   "source": [
    "## Deep learning models"
   ]
  },
  {
   "cell_type": "markdown",
   "metadata": {
    "tags": []
   },
   "source": [
    "### Prepare data"
   ]
  },
  {
   "cell_type": "code",
   "execution_count": 25,
   "metadata": {
    "execution": {
     "iopub.execute_input": "2024-05-10T12:52:46.990513Z",
     "iopub.status.busy": "2024-05-10T12:52:46.989814Z",
     "iopub.status.idle": "2024-05-10T12:52:47.000457Z",
     "shell.execute_reply": "2024-05-10T12:52:46.999859Z",
     "shell.execute_reply.started": "2024-05-10T12:52:46.990476Z"
    },
    "tags": []
   },
   "outputs": [],
   "source": [
    "NUM_EPOCHS = 20"
   ]
  },
  {
   "cell_type": "code",
   "execution_count": 26,
   "metadata": {
    "colab": {
     "base_uri": "https://localhost:8080/"
    },
    "execution": {
     "iopub.execute_input": "2024-05-10T12:52:47.486744Z",
     "iopub.status.busy": "2024-05-10T12:52:47.486139Z",
     "iopub.status.idle": "2024-05-10T12:53:02.203210Z",
     "shell.execute_reply": "2024-05-10T12:53:02.202556Z",
     "shell.execute_reply.started": "2024-05-10T12:52:47.486718Z"
    },
    "id": "bjZ4JqwzlME0",
    "outputId": "96dd45fd-56d2-4bc5-d0f3-ce6cf227849e",
    "tags": []
   },
   "outputs": [
    {
     "name": "stderr",
     "output_type": "stream",
     "text": [
      "2024-05-10 12:52:49.104302: I tensorflow/core/util/port.cc:110] oneDNN custom operations are on. You may see slightly different numerical results due to floating-point round-off errors from different computation orders. To turn them off, set the environment variable `TF_ENABLE_ONEDNN_OPTS=0`.\n",
      "2024-05-10 12:52:50.615135: I tensorflow/core/platform/cpu_feature_guard.cc:182] This TensorFlow binary is optimized to use available CPU instructions in performance-critical operations.\n",
      "To enable the following instructions: AVX2 AVX512F AVX512_VNNI FMA, in other operations, rebuild TensorFlow with the appropriate compiler flags.\n",
      "2024-05-10 12:52:54.063175: W tensorflow/compiler/tf2tensorrt/utils/py_utils.cc:38] TF-TRT Warning: Could not find TensorRT\n"
     ]
    },
    {
     "name": "stdout",
     "output_type": "stream",
     "text": [
      "Found 800 validated image filenames belonging to 5 classes.\n",
      "Found 200 validated image filenames belonging to 5 classes.\n"
     ]
    }
   ],
   "source": [
    "from sklearn.model_selection import train_test_split\n",
    "from tensorflow.keras.preprocessing.image import ImageDataGenerator\n",
    "\n",
    "num_classes = len(new_df['class_'].unique())\n",
    "train_df, test_df = train_test_split(new_df, test_size=TEST_SIZE)\n",
    "\n",
    "# Определяем параметры предварительной обработки и увеличения данных\n",
    "train_datagen = ImageDataGenerator(\n",
    "    rescale=1./255,         # Нормализация\n",
    "    rotation_range=20,      # Случайные повороты на 20 градусов\n",
    "    width_shift_range=0.2,  # Случайные сдвиги по ширине\n",
    "    height_shift_range=0.2, # Случайные сдвиги по высоте\n",
    "    shear_range=0.2,        # Случайные сдвиги\n",
    "    zoom_range=0.2,         # Случайные увеличения/уменьшения\n",
    "    horizontal_flip=True,   # Случайные отражения по горизонтали\n",
    "    fill_mode='nearest'\n",
    ")\n",
    "\n",
    "test_datagen = ImageDataGenerator(rescale=1./255)\n",
    "\n",
    "# Подготовка генераторов данных из директории\n",
    "train_generator = train_datagen.flow_from_dataframe(\n",
    "    dataframe=train_df,\n",
    "    directory='./',\n",
    "    x_col='file_path',\n",
    "    y_col='class',\n",
    "    target_size=(IMAGE_SIZE, IMAGE_SIZE),   # Размер входных изображений\n",
    "    batch_size=BATCH_SIZE,\n",
    "    class_mode='categorical'                # для многоклассовой классификации\n",
    ")\n",
    "\n",
    "test_generator = test_datagen.flow_from_dataframe(\n",
    "    dataframe=test_df,\n",
    "    directory='./',\n",
    "    x_col='file_path',\n",
    "    y_col='class',\n",
    "    target_size=(IMAGE_SIZE, IMAGE_SIZE),\n",
    "    batch_size=BATCH_SIZE,\n",
    "    class_mode='categorical'\n",
    ")\n"
   ]
  },
  {
   "cell_type": "markdown",
   "metadata": {
    "tags": []
   },
   "source": [
    "### Utils"
   ]
  },
  {
   "cell_type": "code",
   "execution_count": 27,
   "metadata": {
    "execution": {
     "iopub.execute_input": "2024-05-10T12:53:02.204826Z",
     "iopub.status.busy": "2024-05-10T12:53:02.204223Z",
     "iopub.status.idle": "2024-05-10T12:53:02.216082Z",
     "shell.execute_reply": "2024-05-10T12:53:02.215513Z",
     "shell.execute_reply.started": "2024-05-10T12:53:02.204795Z"
    },
    "tags": []
   },
   "outputs": [],
   "source": [
    "import seaborn as sn\n",
    "from sklearn.metrics import confusion_matrix\n",
    "\n",
    "def show_history(history, model_name=None):\n",
    "    acc = history.history['accuracy']\n",
    "    val_acc = history.history['val_accuracy']\n",
    "\n",
    "    plt.figure(figsize=(8, 8))\n",
    "    plt.subplot(2, 1, 1)\n",
    "    plt.plot(acc, label='Training Accuracy')\n",
    "    plt.plot(val_acc, label='Validation Accuracy')\n",
    "    plt.legend(loc='lower right')\n",
    "    plt.ylabel('Accuracy')\n",
    "    plt.ylim([min(plt.ylim()),1])\n",
    "    if model_name:\n",
    "        plt.title(f'{model_name} Training and Validation Accuracy')\n",
    "    else:\n",
    "        plt.title('Training and Validation Accuracy')\n",
    "    plt.xlabel('epoch')\n",
    "    return plt.show()\n",
    "\n",
    "def get_predictions_and_labels(model, generator):\n",
    "    predictions = []\n",
    "    labels = []\n",
    "    for x, y in generator:\n",
    "        p = model.predict(x)\n",
    "        predictions.extend(np.argmax(p, axis=1))\n",
    "        labels.extend(np.argmax(y, axis=1))\n",
    "        if len(predictions) >= len(generator.filenames):\n",
    "            break\n",
    "    return predictions, labels\n",
    "\n",
    "def show_confusion_matrix(model, generator, model_name=None):\n",
    "    predictions, labels = get_predictions_and_labels(model, test_generator)\n",
    "    cm = confusion_matrix(labels, predictions)\n",
    "\n",
    "    plt.figure(figsize = (10, 7))\n",
    "    sn.heatmap(cm, annot=True)\n",
    "    plt.xlabel('Predicted')\n",
    "    plt.ylabel('Truth')\n",
    "    if model_name:\n",
    "        plt.title(f'{model_name} Confusion Matrix')\n",
    "    else:\n",
    "        plt.title('Confusion Matrix')\n",
    "    plt.show()\n",
    "\n",
    "def print_accuracy(model, generator, model_name=None):\n",
    "    test_loss, test_acc = model.evaluate(test_generator)\n",
    "    print(f'{model_name} accuracy:', test_acc)\n"
   ]
  },
  {
   "cell_type": "markdown",
   "metadata": {
    "tags": []
   },
   "source": [
    "### Custom CNN model"
   ]
  },
  {
   "cell_type": "markdown",
   "metadata": {
    "execution": {
     "iopub.status.busy": "2024-05-07T15:53:40.364936411Z",
     "iopub.status.idle": "2024-05-07T15:53:40.367529744Z",
     "shell.execute_reply": "2024-05-07T15:53:40.364874512Z"
    },
    "tags": []
   },
   "source": [
    "#### Build model"
   ]
  },
  {
   "cell_type": "code",
   "execution_count": 28,
   "metadata": {
    "colab": {
     "base_uri": "https://localhost:8080/"
    },
    "execution": {
     "iopub.execute_input": "2024-05-10T12:53:02.217727Z",
     "iopub.status.busy": "2024-05-10T12:53:02.217284Z",
     "iopub.status.idle": "2024-05-10T12:53:02.854500Z",
     "shell.execute_reply": "2024-05-10T12:53:02.853882Z",
     "shell.execute_reply.started": "2024-05-10T12:53:02.217702Z"
    },
    "id": "9dteIuKDTCf4",
    "outputId": "7cdc3735-3801-46aa-ee43-e189b4348b25",
    "tags": []
   },
   "outputs": [
    {
     "name": "stderr",
     "output_type": "stream",
     "text": [
      "2024-05-10 12:53:02.550615: E tensorflow/compiler/xla/stream_executor/cuda/cuda_driver.cc:266] failed call to cuInit: CUDA_ERROR_NO_DEVICE: no CUDA-capable device is detected\n"
     ]
    },
    {
     "name": "stdout",
     "output_type": "stream",
     "text": [
      "Model: \"sequential\"\n",
      "_________________________________________________________________\n",
      " Layer (type)                Output Shape              Param #   \n",
      "=================================================================\n",
      " conv2d (Conv2D)             (None, 158, 158, 32)      896       \n",
      "                                                                 \n",
      " max_pooling2d (MaxPooling2D  (None, 79, 79, 32)       0         \n",
      " )                                                               \n",
      "                                                                 \n",
      " conv2d_1 (Conv2D)           (None, 77, 77, 64)        18496     \n",
      "                                                                 \n",
      " max_pooling2d_1 (MaxPooling  (None, 38, 38, 64)       0         \n",
      " 2D)                                                             \n",
      "                                                                 \n",
      " conv2d_2 (Conv2D)           (None, 36, 36, 128)       73856     \n",
      "                                                                 \n",
      " max_pooling2d_2 (MaxPooling  (None, 18, 18, 128)      0         \n",
      " 2D)                                                             \n",
      "                                                                 \n",
      " flatten (Flatten)           (None, 41472)             0         \n",
      "                                                                 \n",
      " dense (Dense)               (None, 512)               21234176  \n",
      "                                                                 \n",
      " dropout (Dropout)           (None, 512)               0         \n",
      "                                                                 \n",
      " dense_1 (Dense)             (None, 5)                 2565      \n",
      "                                                                 \n",
      "=================================================================\n",
      "Total params: 21,329,989\n",
      "Trainable params: 21,329,989\n",
      "Non-trainable params: 0\n",
      "_________________________________________________________________\n"
     ]
    }
   ],
   "source": [
    "from tensorflow.keras.models import Sequential\n",
    "from tensorflow.keras.layers import Conv2D, MaxPooling2D, Flatten, Dense, Dropout\n",
    "\n",
    "cnn_model = Sequential([\n",
    "    Conv2D(32, (3, 3), activation='relu', input_shape=(IMAGE_SIZE, IMAGE_SIZE, 3)),\n",
    "    MaxPooling2D(2, 2),\n",
    "    Conv2D(64, (3, 3), activation='relu'),\n",
    "    MaxPooling2D(2, 2),\n",
    "    Conv2D(128, (3, 3), activation='relu'),\n",
    "    MaxPooling2D(2, 2),\n",
    "    Flatten(),\n",
    "    Dense(512, activation='relu'),\n",
    "    Dropout(0.5),\n",
    "    Dense(num_classes, activation='softmax')  # num_classes - кол-во классов транспортных средств\n",
    "])\n",
    "\n",
    "cnn_model.compile(optimizer='adam', loss='categorical_crossentropy', metrics=['accuracy'])\n",
    "\n",
    "cnn_model.summary()"
   ]
  },
  {
   "cell_type": "markdown",
   "metadata": {
    "execution": {
     "iopub.status.busy": "2024-05-07T15:53:53.649834354Z",
     "iopub.status.idle": "2024-05-07T15:53:53.656738751Z",
     "shell.execute_reply": "2024-05-07T15:53:53.649798503Z"
    },
    "tags": []
   },
   "source": [
    "#### Train model"
   ]
  },
  {
   "cell_type": "code",
   "execution_count": 29,
   "metadata": {
    "colab": {
     "base_uri": "https://localhost:8080/"
    },
    "execution": {
     "iopub.execute_input": "2024-05-10T12:53:02.855932Z",
     "iopub.status.busy": "2024-05-10T12:53:02.855558Z",
     "iopub.status.idle": "2024-05-10T12:56:57.901146Z",
     "shell.execute_reply": "2024-05-10T12:56:57.900413Z",
     "shell.execute_reply.started": "2024-05-10T12:53:02.855910Z"
    },
    "id": "D-bjJKbxTCiY",
    "outputId": "da35fe45-6635-4e44-ba19-a67480d63aef",
    "tags": []
   },
   "outputs": [
    {
     "name": "stderr",
     "output_type": "stream",
     "text": [
      "2024-05-10 12:53:03.304997: I tensorflow/core/common_runtime/executor.cc:1197] [/device:CPU:0] (DEBUG INFO) Executor start aborting (this does not indicate an error and you can ignore this message): INVALID_ARGUMENT: You must feed a value for placeholder tensor 'Placeholder/_0' with dtype int32\n",
      "\t [[{{node Placeholder/_0}}]]\n"
     ]
    },
    {
     "name": "stdout",
     "output_type": "stream",
     "text": [
      "Epoch 1/20\n",
      "25/25 [==============================] - ETA: 0s - loss: 1.8091 - accuracy: 0.2188"
     ]
    },
    {
     "name": "stderr",
     "output_type": "stream",
     "text": [
      "2024-05-10 12:53:15.363636: I tensorflow/core/common_runtime/executor.cc:1197] [/device:CPU:0] (DEBUG INFO) Executor start aborting (this does not indicate an error and you can ignore this message): INVALID_ARGUMENT: You must feed a value for placeholder tensor 'Placeholder/_0' with dtype int32\n",
      "\t [[{{node Placeholder/_0}}]]\n"
     ]
    },
    {
     "name": "stdout",
     "output_type": "stream",
     "text": [
      "25/25 [==============================] - 14s 502ms/step - loss: 1.8091 - accuracy: 0.2188 - val_loss: 1.5949 - val_accuracy: 0.3750\n",
      "Epoch 2/20\n",
      "25/25 [==============================] - 11s 453ms/step - loss: 1.5755 - accuracy: 0.2800 - val_loss: 1.5857 - val_accuracy: 0.3100\n",
      "Epoch 3/20\n",
      "25/25 [==============================] - 11s 458ms/step - loss: 1.5282 - accuracy: 0.2988 - val_loss: 1.5379 - val_accuracy: 0.3750\n",
      "Epoch 4/20\n",
      "25/25 [==============================] - 11s 458ms/step - loss: 1.5221 - accuracy: 0.3512 - val_loss: 1.5320 - val_accuracy: 0.3350\n",
      "Epoch 5/20\n",
      "25/25 [==============================] - 12s 461ms/step - loss: 1.4672 - accuracy: 0.3663 - val_loss: 1.4585 - val_accuracy: 0.4100\n",
      "Epoch 6/20\n",
      "25/25 [==============================] - 11s 453ms/step - loss: 1.4301 - accuracy: 0.3975 - val_loss: 1.3809 - val_accuracy: 0.4600\n",
      "Epoch 7/20\n",
      "25/25 [==============================] - 12s 468ms/step - loss: 1.3893 - accuracy: 0.4525 - val_loss: 1.4265 - val_accuracy: 0.3850\n",
      "Epoch 8/20\n",
      "25/25 [==============================] - 12s 462ms/step - loss: 1.3677 - accuracy: 0.4387 - val_loss: 1.2996 - val_accuracy: 0.4700\n",
      "Epoch 9/20\n",
      "25/25 [==============================] - 12s 457ms/step - loss: 1.3279 - accuracy: 0.4725 - val_loss: 1.2989 - val_accuracy: 0.4800\n",
      "Epoch 10/20\n",
      "25/25 [==============================] - 12s 468ms/step - loss: 1.2920 - accuracy: 0.4700 - val_loss: 1.3435 - val_accuracy: 0.4650\n",
      "Epoch 11/20\n",
      "25/25 [==============================] - 11s 452ms/step - loss: 1.2778 - accuracy: 0.4863 - val_loss: 1.1202 - val_accuracy: 0.5600\n",
      "Epoch 12/20\n",
      "25/25 [==============================] - 11s 451ms/step - loss: 1.2502 - accuracy: 0.5013 - val_loss: 1.3393 - val_accuracy: 0.4550\n",
      "Epoch 13/20\n",
      "25/25 [==============================] - 12s 478ms/step - loss: 1.2777 - accuracy: 0.4988 - val_loss: 1.2893 - val_accuracy: 0.4600\n",
      "Epoch 14/20\n",
      "25/25 [==============================] - 11s 455ms/step - loss: 1.2209 - accuracy: 0.5038 - val_loss: 1.1756 - val_accuracy: 0.5000\n",
      "Epoch 15/20\n",
      "25/25 [==============================] - 11s 457ms/step - loss: 1.1993 - accuracy: 0.5238 - val_loss: 1.2437 - val_accuracy: 0.4650\n",
      "Epoch 16/20\n",
      "25/25 [==============================] - 12s 475ms/step - loss: 1.1767 - accuracy: 0.5325 - val_loss: 1.1443 - val_accuracy: 0.5300\n",
      "Epoch 17/20\n",
      "25/25 [==============================] - 12s 474ms/step - loss: 1.1282 - accuracy: 0.5500 - val_loss: 1.0796 - val_accuracy: 0.5850\n",
      "Epoch 18/20\n",
      "25/25 [==============================] - 12s 466ms/step - loss: 1.2022 - accuracy: 0.5038 - val_loss: 1.1506 - val_accuracy: 0.5900\n",
      "Epoch 19/20\n",
      "25/25 [==============================] - 12s 461ms/step - loss: 1.1522 - accuracy: 0.5525 - val_loss: 1.1679 - val_accuracy: 0.5000\n",
      "Epoch 20/20\n",
      "25/25 [==============================] - 12s 463ms/step - loss: 1.0814 - accuracy: 0.5487 - val_loss: 1.1965 - val_accuracy: 0.4950\n"
     ]
    },
    {
     "data": {
      "image/png": "[encoded data removed]",
      "text/plain": [
       "<Figure size 576x576 with 1 Axes>"
      ]
     },
     "metadata": {
      "needs_background": "light"
     },
     "output_type": "display_data"
    }
   ],
   "source": [
    "cnn_history = cnn_model.fit(\n",
    "    train_generator,\n",
    "    epochs=NUM_EPOCHS,\n",
    "    validation_data=test_generator\n",
    ")\n",
    "\n",
    "show_history(cnn_history, model_name='Custom CNN model')"
   ]
  },
  {
   "cell_type": "markdown",
   "metadata": {
    "execution": {
     "iopub.status.busy": "2024-05-07T15:54:29.515176010Z",
     "iopub.status.idle": "2024-05-07T15:54:29.519544501Z",
     "shell.execute_reply": "2024-05-07T15:54:29.515137261Z"
    },
    "tags": []
   },
   "source": [
    "#### Visualization result"
   ]
  },
  {
   "cell_type": "code",
   "execution_count": 30,
   "metadata": {
    "colab": {
     "base_uri": "https://localhost:8080/"
    },
    "execution": {
     "iopub.execute_input": "2024-05-10T12:56:57.902644Z",
     "iopub.status.busy": "2024-05-10T12:56:57.902316Z",
     "iopub.status.idle": "2024-05-10T12:56:59.660917Z",
     "shell.execute_reply": "2024-05-10T12:56:59.660246Z",
     "shell.execute_reply.started": "2024-05-10T12:56:57.902614Z"
    },
    "id": "iDg8ghYzaa2L",
    "outputId": "27557dac-ff99-4ae7-b07e-623c8c0e61f9",
    "tags": []
   },
   "outputs": [
    {
     "name": "stderr",
     "output_type": "stream",
     "text": [
      "2024-05-10 12:56:58.163872: I tensorflow/core/common_runtime/executor.cc:1197] [/device:CPU:0] (DEBUG INFO) Executor start aborting (this does not indicate an error and you can ignore this message): INVALID_ARGUMENT: You must feed a value for placeholder tensor 'Placeholder/_0' with dtype int32\n",
      "\t [[{{node Placeholder/_0}}]]\n"
     ]
    },
    {
     "name": "stdout",
     "output_type": "stream",
     "text": [
      "7/7 [==============================] - 1s 194ms/step - loss: 1.1965 - accuracy: 0.4950\n",
      "Custom CNN model accuracy: 0.4950000047683716\n"
     ]
    }
   ],
   "source": [
    "print_accuracy(cnn_model, test_generator, 'Custom CNN model')"
   ]
  },
  {
   "cell_type": "code",
   "execution_count": 31,
   "metadata": {
    "execution": {
     "iopub.execute_input": "2024-05-10T12:56:59.662152Z",
     "iopub.status.busy": "2024-05-10T12:56:59.661718Z",
     "iopub.status.idle": "2024-05-10T12:57:01.957333Z",
     "shell.execute_reply": "2024-05-10T12:57:01.956488Z",
     "shell.execute_reply.started": "2024-05-10T12:56:59.662128Z"
    },
    "id": "HVhJxnedfkeO",
    "tags": []
   },
   "outputs": [
    {
     "name": "stdout",
     "output_type": "stream",
     "text": [
      "1/1 [==============================] - 0s 175ms/step\n",
      "1/1 [==============================] - 0s 51ms/step\n",
      "1/1 [==============================] - 0s 54ms/step\n",
      "1/1 [==============================] - 0s 54ms/step\n",
      "1/1 [==============================] - 0s 54ms/step\n",
      "1/1 [==============================] - 0s 54ms/step\n",
      "1/1 [==============================] - 0s 77ms/step\n"
     ]
    },
    {
     "data": {
      "image/png": "[encoded data removed]",
      "text/plain": [
       "<Figure size 720x504 with 2 Axes>"
      ]
     },
     "metadata": {
      "needs_background": "light"
     },
     "output_type": "display_data"
    }
   ],
   "source": [
    "show_confusion_matrix(cnn_model, test_generator, 'Custom CNN model')"
   ]
  },
  {
   "cell_type": "markdown",
   "metadata": {
    "execution": {
     "iopub.execute_input": "2024-05-07T16:20:18.001971Z",
     "iopub.status.busy": "2024-05-07T16:20:18.001088Z",
     "iopub.status.idle": "2024-05-07T16:20:18.011571Z",
     "shell.execute_reply": "2024-05-07T16:20:18.010981Z",
     "shell.execute_reply.started": "2024-05-07T16:20:18.001924Z"
    },
    "tags": []
   },
   "source": [
    "### Pretrained ResNet50 model"
   ]
  },
  {
   "cell_type": "markdown",
   "metadata": {
    "tags": []
   },
   "source": [
    "#### Build model"
   ]
  },
  {
   "cell_type": "code",
   "execution_count": 32,
   "metadata": {
    "execution": {
     "iopub.execute_input": "2024-05-10T12:57:01.958572Z",
     "iopub.status.busy": "2024-05-10T12:57:01.958231Z",
     "iopub.status.idle": "2024-05-10T12:57:08.569238Z",
     "shell.execute_reply": "2024-05-10T12:57:08.568466Z",
     "shell.execute_reply.started": "2024-05-10T12:57:01.958550Z"
    },
    "tags": []
   },
   "outputs": [
    {
     "name": "stderr",
     "output_type": "stream",
     "text": [
      "WARNING:absl:`lr` is deprecated in Keras optimizer, please use `learning_rate` or use the legacy optimizer, e.g.,tf.keras.optimizers.legacy.Adam.\n"
     ]
    },
    {
     "name": "stdout",
     "output_type": "stream",
     "text": [
      "Model: \"model\"\n",
      "__________________________________________________________________________________________________\n",
      " Layer (type)                   Output Shape         Param #     Connected to                     \n",
      "==================================================================================================\n",
      " input_1 (InputLayer)           [(None, 160, 160, 3  0           []                               \n",
      "                                )]                                                                \n",
      "                                                                                                  \n",
      " conv1_pad (ZeroPadding2D)      (None, 166, 166, 3)  0           ['input_1[0][0]']                \n",
      "                                                                                                  \n",
      " conv1_conv (Conv2D)            (None, 80, 80, 64)   9472        ['conv1_pad[0][0]']              \n",
      "                                                                                                  \n",
      " conv1_bn (BatchNormalization)  (None, 80, 80, 64)   256         ['conv1_conv[0][0]']             \n",
      "                                                                                                  \n",
      " conv1_relu (Activation)        (None, 80, 80, 64)   0           ['conv1_bn[0][0]']               \n",
      "                                                                                                  \n",
      " pool1_pad (ZeroPadding2D)      (None, 82, 82, 64)   0           ['conv1_relu[0][0]']             \n",
      "                                                                                                  \n",
      " pool1_pool (MaxPooling2D)      (None, 40, 40, 64)   0           ['pool1_pad[0][0]']              \n",
      "                                                                                                  \n",
      " conv2_block1_1_conv (Conv2D)   (None, 40, 40, 64)   4160        ['pool1_pool[0][0]']             \n",
      "                                                                                                  \n",
      " conv2_block1_1_bn (BatchNormal  (None, 40, 40, 64)  256         ['conv2_block1_1_conv[0][0]']    \n",
      " ization)                                                                                         \n",
      "                                                                                                  \n",
      " conv2_block1_1_relu (Activatio  (None, 40, 40, 64)  0           ['conv2_block1_1_bn[0][0]']      \n",
      " n)                                                                                               \n",
      "                                                                                                  \n",
      " conv2_block1_2_conv (Conv2D)   (None, 40, 40, 64)   36928       ['conv2_block1_1_relu[0][0]']    \n",
      "                                                                                                  \n",
      " conv2_block1_2_bn (BatchNormal  (None, 40, 40, 64)  256         ['conv2_block1_2_conv[0][0]']    \n",
      " ization)                                                                                         \n",
      "                                                                                                  \n",
      " conv2_block1_2_relu (Activatio  (None, 40, 40, 64)  0           ['conv2_block1_2_bn[0][0]']      \n",
      " n)                                                                                               \n",
      "                                                                                                  \n",
      " conv2_block1_0_conv (Conv2D)   (None, 40, 40, 256)  16640       ['pool1_pool[0][0]']             \n",
      "                                                                                                  \n",
      " conv2_block1_3_conv (Conv2D)   (None, 40, 40, 256)  16640       ['conv2_block1_2_relu[0][0]']    \n",
      "                                                                                                  \n",
      " conv2_block1_0_bn (BatchNormal  (None, 40, 40, 256)  1024       ['conv2_block1_0_conv[0][0]']    \n",
      " ization)                                                                                         \n",
      "                                                                                                  \n",
      " conv2_block1_3_bn (BatchNormal  (None, 40, 40, 256)  1024       ['conv2_block1_3_conv[0][0]']    \n",
      " ization)                                                                                         \n",
      "                                                                                                  \n",
      " conv2_block1_add (Add)         (None, 40, 40, 256)  0           ['conv2_block1_0_bn[0][0]',      \n",
      "                                                                  'conv2_block1_3_bn[0][0]']      \n",
      "                                                                                                  \n",
      " conv2_block1_out (Activation)  (None, 40, 40, 256)  0           ['conv2_block1_add[0][0]']       \n",
      "                                                                                                  \n",
      " conv2_block2_1_conv (Conv2D)   (None, 40, 40, 64)   16448       ['conv2_block1_out[0][0]']       \n",
      "                                                                                                  \n",
      " conv2_block2_1_bn (BatchNormal  (None, 40, 40, 64)  256         ['conv2_block2_1_conv[0][0]']    \n",
      " ization)                                                                                         \n",
      "                                                                                                  \n",
      " conv2_block2_1_relu (Activatio  (None, 40, 40, 64)  0           ['conv2_block2_1_bn[0][0]']      \n",
      " n)                                                                                               \n",
      "                                                                                                  \n",
      " conv2_block2_2_conv (Conv2D)   (None, 40, 40, 64)   36928       ['conv2_block2_1_relu[0][0]']    \n",
      "                                                                                                  \n",
      " conv2_block2_2_bn (BatchNormal  (None, 40, 40, 64)  256         ['conv2_block2_2_conv[0][0]']    \n",
      " ization)                                                                                         \n",
      "                                                                                                  \n",
      " conv2_block2_2_relu (Activatio  (None, 40, 40, 64)  0           ['conv2_block2_2_bn[0][0]']      \n",
      " n)                                                                                               \n",
      "                                                                                                  \n",
      " conv2_block2_3_conv (Conv2D)   (None, 40, 40, 256)  16640       ['conv2_block2_2_relu[0][0]']    \n",
      "                                                                                                  \n",
      " conv2_block2_3_bn (BatchNormal  (None, 40, 40, 256)  1024       ['conv2_block2_3_conv[0][0]']    \n",
      " ization)                                                                                         \n",
      "                                                                                                  \n",
      " conv2_block2_add (Add)         (None, 40, 40, 256)  0           ['conv2_block1_out[0][0]',       \n",
      "                                                                  'conv2_block2_3_bn[0][0]']      \n",
      "                                                                                                  \n",
      " conv2_block2_out (Activation)  (None, 40, 40, 256)  0           ['conv2_block2_add[0][0]']       \n",
      "                                                                                                  \n",
      " conv2_block3_1_conv (Conv2D)   (None, 40, 40, 64)   16448       ['conv2_block2_out[0][0]']       \n",
      "                                                                                                  \n",
      " conv2_block3_1_bn (BatchNormal  (None, 40, 40, 64)  256         ['conv2_block3_1_conv[0][0]']    \n",
      " ization)                                                                                         \n",
      "                                                                                                  \n",
      " conv2_block3_1_relu (Activatio  (None, 40, 40, 64)  0           ['conv2_block3_1_bn[0][0]']      \n",
      " n)                                                                                               \n",
      "                                                                                                  \n",
      " conv2_block3_2_conv (Conv2D)   (None, 40, 40, 64)   36928       ['conv2_block3_1_relu[0][0]']    \n",
      "                                                                                                  \n",
      " conv2_block3_2_bn (BatchNormal  (None, 40, 40, 64)  256         ['conv2_block3_2_conv[0][0]']    \n",
      " ization)                                                                                         \n",
      "                                                                                                  \n",
      " conv2_block3_2_relu (Activatio  (None, 40, 40, 64)  0           ['conv2_block3_2_bn[0][0]']      \n",
      " n)                                                                                               \n",
      "                                                                                                  \n",
      " conv2_block3_3_conv (Conv2D)   (None, 40, 40, 256)  16640       ['conv2_block3_2_relu[0][0]']    \n",
      "                                                                                                  \n",
      " conv2_block3_3_bn (BatchNormal  (None, 40, 40, 256)  1024       ['conv2_block3_3_conv[0][0]']    \n",
      " ization)                                                                                         \n",
      "                                                                                                  \n",
      " conv2_block3_add (Add)         (None, 40, 40, 256)  0           ['conv2_block2_out[0][0]',       \n",
      "                                                                  'conv2_block3_3_bn[0][0]']      \n",
      "                                                                                                  \n",
      " conv2_block3_out (Activation)  (None, 40, 40, 256)  0           ['conv2_block3_add[0][0]']       \n",
      "                                                                                                  \n",
      " conv3_block1_1_conv (Conv2D)   (None, 20, 20, 128)  32896       ['conv2_block3_out[0][0]']       \n",
      "                                                                                                  \n",
      " conv3_block1_1_bn (BatchNormal  (None, 20, 20, 128)  512        ['conv3_block1_1_conv[0][0]']    \n",
      " ization)                                                                                         \n",
      "                                                                                                  \n",
      " conv3_block1_1_relu (Activatio  (None, 20, 20, 128)  0          ['conv3_block1_1_bn[0][0]']      \n",
      " n)                                                                                               \n",
      "                                                                                                  \n",
      " conv3_block1_2_conv (Conv2D)   (None, 20, 20, 128)  147584      ['conv3_block1_1_relu[0][0]']    \n",
      "                                                                                                  \n",
      " conv3_block1_2_bn (BatchNormal  (None, 20, 20, 128)  512        ['conv3_block1_2_conv[0][0]']    \n",
      " ization)                                                                                         \n",
      "                                                                                                  \n",
      " conv3_block1_2_relu (Activatio  (None, 20, 20, 128)  0          ['conv3_block1_2_bn[0][0]']      \n",
      " n)                                                                                               \n",
      "                                                                                                  \n",
      " conv3_block1_0_conv (Conv2D)   (None, 20, 20, 512)  131584      ['conv2_block3_out[0][0]']       \n",
      "                                                                                                  \n",
      " conv3_block1_3_conv (Conv2D)   (None, 20, 20, 512)  66048       ['conv3_block1_2_relu[0][0]']    \n",
      "                                                                                                  \n",
      " conv3_block1_0_bn (BatchNormal  (None, 20, 20, 512)  2048       ['conv3_block1_0_conv[0][0]']    \n",
      " ization)                                                                                         \n",
      "                                                                                                  \n",
      " conv3_block1_3_bn (BatchNormal  (None, 20, 20, 512)  2048       ['conv3_block1_3_conv[0][0]']    \n",
      " ization)                                                                                         \n",
      "                                                                                                  \n",
      " conv3_block1_add (Add)         (None, 20, 20, 512)  0           ['conv3_block1_0_bn[0][0]',      \n",
      "                                                                  'conv3_block1_3_bn[0][0]']      \n",
      "                                                                                                  \n",
      " conv3_block1_out (Activation)  (None, 20, 20, 512)  0           ['conv3_block1_add[0][0]']       \n",
      "                                                                                                  \n",
      " conv3_block2_1_conv (Conv2D)   (None, 20, 20, 128)  65664       ['conv3_block1_out[0][0]']       \n",
      "                                                                                                  \n",
      " conv3_block2_1_bn (BatchNormal  (None, 20, 20, 128)  512        ['conv3_block2_1_conv[0][0]']    \n",
      " ization)                                                                                         \n",
      "                                                                                                  \n",
      " conv3_block2_1_relu (Activatio  (None, 20, 20, 128)  0          ['conv3_block2_1_bn[0][0]']      \n",
      " n)                                                                                               \n",
      "                                                                                                  \n",
      " conv3_block2_2_conv (Conv2D)   (None, 20, 20, 128)  147584      ['conv3_block2_1_relu[0][0]']    \n",
      "                                                                                                  \n",
      " conv3_block2_2_bn (BatchNormal  (None, 20, 20, 128)  512        ['conv3_block2_2_conv[0][0]']    \n",
      " ization)                                                                                         \n",
      "                                                                                                  \n",
      " conv3_block2_2_relu (Activatio  (None, 20, 20, 128)  0          ['conv3_block2_2_bn[0][0]']      \n",
      " n)                                                                                               \n",
      "                                                                                                  \n",
      " conv3_block2_3_conv (Conv2D)   (None, 20, 20, 512)  66048       ['conv3_block2_2_relu[0][0]']    \n",
      "                                                                                                  \n",
      " conv3_block2_3_bn (BatchNormal  (None, 20, 20, 512)  2048       ['conv3_block2_3_conv[0][0]']    \n",
      " ization)                                                                                         \n",
      "                                                                                                  \n",
      " conv3_block2_add (Add)         (None, 20, 20, 512)  0           ['conv3_block1_out[0][0]',       \n",
      "                                                                  'conv3_block2_3_bn[0][0]']      \n",
      "                                                                                                  \n",
      " conv3_block2_out (Activation)  (None, 20, 20, 512)  0           ['conv3_block2_add[0][0]']       \n",
      "                                                                                                  \n",
      " conv3_block3_1_conv (Conv2D)   (None, 20, 20, 128)  65664       ['conv3_block2_out[0][0]']       \n",
      "                                                                                                  \n",
      " conv3_block3_1_bn (BatchNormal  (None, 20, 20, 128)  512        ['conv3_block3_1_conv[0][0]']    \n",
      " ization)                                                                                         \n",
      "                                                                                                  \n",
      " conv3_block3_1_relu (Activatio  (None, 20, 20, 128)  0          ['conv3_block3_1_bn[0][0]']      \n",
      " n)                                                                                               \n",
      "                                                                                                  \n",
      " conv3_block3_2_conv (Conv2D)   (None, 20, 20, 128)  147584      ['conv3_block3_1_relu[0][0]']    \n",
      "                                                                                                  \n",
      " conv3_block3_2_bn (BatchNormal  (None, 20, 20, 128)  512        ['conv3_block3_2_conv[0][0]']    \n",
      " ization)                                                                                         \n",
      "                                                                                                  \n",
      " conv3_block3_2_relu (Activatio  (None, 20, 20, 128)  0          ['conv3_block3_2_bn[0][0]']      \n",
      " n)                                                                                               \n",
      "                                                                                                  \n",
      " conv3_block3_3_conv (Conv2D)   (None, 20, 20, 512)  66048       ['conv3_block3_2_relu[0][0]']    \n",
      "                                                                                                  \n",
      " conv3_block3_3_bn (BatchNormal  (None, 20, 20, 512)  2048       ['conv3_block3_3_conv[0][0]']    \n",
      " ization)                                                                                         \n",
      "                                                                                                  \n",
      " conv3_block3_add (Add)         (None, 20, 20, 512)  0           ['conv3_block2_out[0][0]',       \n",
      "                                                                  'conv3_block3_3_bn[0][0]']      \n",
      "                                                                                                  \n",
      " conv3_block3_out (Activation)  (None, 20, 20, 512)  0           ['conv3_block3_add[0][0]']       \n",
      "                                                                                                  \n",
      " conv3_block4_1_conv (Conv2D)   (None, 20, 20, 128)  65664       ['conv3_block3_out[0][0]']       \n",
      "                                                                                                  \n",
      " conv3_block4_1_bn (BatchNormal  (None, 20, 20, 128)  512        ['conv3_block4_1_conv[0][0]']    \n",
      " ization)                                                                                         \n",
      "                                                                                                  \n",
      " conv3_block4_1_relu (Activatio  (None, 20, 20, 128)  0          ['conv3_block4_1_bn[0][0]']      \n",
      " n)                                                                                               \n",
      "                                                                                                  \n",
      " conv3_block4_2_conv (Conv2D)   (None, 20, 20, 128)  147584      ['conv3_block4_1_relu[0][0]']    \n",
      "                                                                                                  \n",
      " conv3_block4_2_bn (BatchNormal  (None, 20, 20, 128)  512        ['conv3_block4_2_conv[0][0]']    \n",
      " ization)                                                                                         \n",
      "                                                                                                  \n",
      " conv3_block4_2_relu (Activatio  (None, 20, 20, 128)  0          ['conv3_block4_2_bn[0][0]']      \n",
      " n)                                                                                               \n",
      "                                                                                                  \n",
      " conv3_block4_3_conv (Conv2D)   (None, 20, 20, 512)  66048       ['conv3_block4_2_relu[0][0]']    \n",
      "                                                                                                  \n",
      " conv3_block4_3_bn (BatchNormal  (None, 20, 20, 512)  2048       ['conv3_block4_3_conv[0][0]']    \n",
      " ization)                                                                                         \n",
      "                                                                                                  \n",
      " conv3_block4_add (Add)         (None, 20, 20, 512)  0           ['conv3_block3_out[0][0]',       \n",
      "                                                                  'conv3_block4_3_bn[0][0]']      \n",
      "                                                                                                  \n",
      " conv3_block4_out (Activation)  (None, 20, 20, 512)  0           ['conv3_block4_add[0][0]']       \n",
      "                                                                                                  \n",
      " conv4_block1_1_conv (Conv2D)   (None, 10, 10, 256)  131328      ['conv3_block4_out[0][0]']       \n",
      "                                                                                                  \n",
      " conv4_block1_1_bn (BatchNormal  (None, 10, 10, 256)  1024       ['conv4_block1_1_conv[0][0]']    \n",
      " ization)                                                                                         \n",
      "                                                                                                  \n",
      " conv4_block1_1_relu (Activatio  (None, 10, 10, 256)  0          ['conv4_block1_1_bn[0][0]']      \n",
      " n)                                                                                               \n",
      "                                                                                                  \n",
      " conv4_block1_2_conv (Conv2D)   (None, 10, 10, 256)  590080      ['conv4_block1_1_relu[0][0]']    \n",
      "                                                                                                  \n",
      " conv4_block1_2_bn (BatchNormal  (None, 10, 10, 256)  1024       ['conv4_block1_2_conv[0][0]']    \n",
      " ization)                                                                                         \n",
      "                                                                                                  \n",
      " conv4_block1_2_relu (Activatio  (None, 10, 10, 256)  0          ['conv4_block1_2_bn[0][0]']      \n",
      " n)                                                                                               \n",
      "                                                                                                  \n",
      " conv4_block1_0_conv (Conv2D)   (None, 10, 10, 1024  525312      ['conv3_block4_out[0][0]']       \n",
      "                                )                                                                 \n",
      "                                                                                                  \n",
      " conv4_block1_3_conv (Conv2D)   (None, 10, 10, 1024  263168      ['conv4_block1_2_relu[0][0]']    \n",
      "                                )                                                                 \n",
      "                                                                                                  \n",
      " conv4_block1_0_bn (BatchNormal  (None, 10, 10, 1024  4096       ['conv4_block1_0_conv[0][0]']    \n",
      " ization)                       )                                                                 \n",
      "                                                                                                  \n",
      " conv4_block1_3_bn (BatchNormal  (None, 10, 10, 1024  4096       ['conv4_block1_3_conv[0][0]']    \n",
      " ization)                       )                                                                 \n",
      "                                                                                                  \n",
      " conv4_block1_add (Add)         (None, 10, 10, 1024  0           ['conv4_block1_0_bn[0][0]',      \n",
      "                                )                                 'conv4_block1_3_bn[0][0]']      \n",
      "                                                                                                  \n",
      " conv4_block1_out (Activation)  (None, 10, 10, 1024  0           ['conv4_block1_add[0][0]']       \n",
      "                                )                                                                 \n",
      "                                                                                                  \n",
      " conv4_block2_1_conv (Conv2D)   (None, 10, 10, 256)  262400      ['conv4_block1_out[0][0]']       \n",
      "                                                                                                  \n",
      " conv4_block2_1_bn (BatchNormal  (None, 10, 10, 256)  1024       ['conv4_block2_1_conv[0][0]']    \n",
      " ization)                                                                                         \n",
      "                                                                                                  \n",
      " conv4_block2_1_relu (Activatio  (None, 10, 10, 256)  0          ['conv4_block2_1_bn[0][0]']      \n",
      " n)                                                                                               \n",
      "                                                                                                  \n",
      " conv4_block2_2_conv (Conv2D)   (None, 10, 10, 256)  590080      ['conv4_block2_1_relu[0][0]']    \n",
      "                                                                                                  \n",
      " conv4_block2_2_bn (BatchNormal  (None, 10, 10, 256)  1024       ['conv4_block2_2_conv[0][0]']    \n",
      " ization)                                                                                         \n",
      "                                                                                                  \n",
      " conv4_block2_2_relu (Activatio  (None, 10, 10, 256)  0          ['conv4_block2_2_bn[0][0]']      \n",
      " n)                                                                                               \n",
      "                                                                                                  \n",
      " conv4_block2_3_conv (Conv2D)   (None, 10, 10, 1024  263168      ['conv4_block2_2_relu[0][0]']    \n",
      "                                )                                                                 \n",
      "                                                                                                  \n",
      " conv4_block2_3_bn (BatchNormal  (None, 10, 10, 1024  4096       ['conv4_block2_3_conv[0][0]']    \n",
      " ization)                       )                                                                 \n",
      "                                                                                                  \n",
      " conv4_block2_add (Add)         (None, 10, 10, 1024  0           ['conv4_block1_out[0][0]',       \n",
      "                                )                                 'conv4_block2_3_bn[0][0]']      \n",
      "                                                                                                  \n",
      " conv4_block2_out (Activation)  (None, 10, 10, 1024  0           ['conv4_block2_add[0][0]']       \n",
      "                                )                                                                 \n",
      "                                                                                                  \n",
      " conv4_block3_1_conv (Conv2D)   (None, 10, 10, 256)  262400      ['conv4_block2_out[0][0]']       \n",
      "                                                                                                  \n",
      " conv4_block3_1_bn (BatchNormal  (None, 10, 10, 256)  1024       ['conv4_block3_1_conv[0][0]']    \n",
      " ization)                                                                                         \n",
      "                                                                                                  \n",
      " conv4_block3_1_relu (Activatio  (None, 10, 10, 256)  0          ['conv4_block3_1_bn[0][0]']      \n",
      " n)                                                                                               \n",
      "                                                                                                  \n",
      " conv4_block3_2_conv (Conv2D)   (None, 10, 10, 256)  590080      ['conv4_block3_1_relu[0][0]']    \n",
      "                                                                                                  \n",
      " conv4_block3_2_bn (BatchNormal  (None, 10, 10, 256)  1024       ['conv4_block3_2_conv[0][0]']    \n",
      " ization)                                                                                         \n",
      "                                                                                                  \n",
      " conv4_block3_2_relu (Activatio  (None, 10, 10, 256)  0          ['conv4_block3_2_bn[0][0]']      \n",
      " n)                                                                                               \n",
      "                                                                                                  \n",
      " conv4_block3_3_conv (Conv2D)   (None, 10, 10, 1024  263168      ['conv4_block3_2_relu[0][0]']    \n",
      "                                )                                                                 \n",
      "                                                                                                  \n",
      " conv4_block3_3_bn (BatchNormal  (None, 10, 10, 1024  4096       ['conv4_block3_3_conv[0][0]']    \n",
      " ization)                       )                                                                 \n",
      "                                                                                                  \n",
      " conv4_block3_add (Add)         (None, 10, 10, 1024  0           ['conv4_block2_out[0][0]',       \n",
      "                                )                                 'conv4_block3_3_bn[0][0]']      \n",
      "                                                                                                  \n",
      " conv4_block3_out (Activation)  (None, 10, 10, 1024  0           ['conv4_block3_add[0][0]']       \n",
      "                                )                                                                 \n",
      "                                                                                                  \n",
      " conv4_block4_1_conv (Conv2D)   (None, 10, 10, 256)  262400      ['conv4_block3_out[0][0]']       \n",
      "                                                                                                  \n",
      " conv4_block4_1_bn (BatchNormal  (None, 10, 10, 256)  1024       ['conv4_block4_1_conv[0][0]']    \n",
      " ization)                                                                                         \n",
      "                                                                                                  \n",
      " conv4_block4_1_relu (Activatio  (None, 10, 10, 256)  0          ['conv4_block4_1_bn[0][0]']      \n",
      " n)                                                                                               \n",
      "                                                                                                  \n",
      " conv4_block4_2_conv (Conv2D)   (None, 10, 10, 256)  590080      ['conv4_block4_1_relu[0][0]']    \n",
      "                                                                                                  \n",
      " conv4_block4_2_bn (BatchNormal  (None, 10, 10, 256)  1024       ['conv4_block4_2_conv[0][0]']    \n",
      " ization)                                                                                         \n",
      "                                                                                                  \n",
      " conv4_block4_2_relu (Activatio  (None, 10, 10, 256)  0          ['conv4_block4_2_bn[0][0]']      \n",
      " n)                                                                                               \n",
      "                                                                                                  \n",
      " conv4_block4_3_conv (Conv2D)   (None, 10, 10, 1024  263168      ['conv4_block4_2_relu[0][0]']    \n",
      "                                )                                                                 \n",
      "                                                                                                  \n",
      " conv4_block4_3_bn (BatchNormal  (None, 10, 10, 1024  4096       ['conv4_block4_3_conv[0][0]']    \n",
      " ization)                       )                                                                 \n",
      "                                                                                                  \n",
      " conv4_block4_add (Add)         (None, 10, 10, 1024  0           ['conv4_block3_out[0][0]',       \n",
      "                                )                                 'conv4_block4_3_bn[0][0]']      \n",
      "                                                                                                  \n",
      " conv4_block4_out (Activation)  (None, 10, 10, 1024  0           ['conv4_block4_add[0][0]']       \n",
      "                                )                                                                 \n",
      "                                                                                                  \n",
      " conv4_block5_1_conv (Conv2D)   (None, 10, 10, 256)  262400      ['conv4_block4_out[0][0]']       \n",
      "                                                                                                  \n",
      " conv4_block5_1_bn (BatchNormal  (None, 10, 10, 256)  1024       ['conv4_block5_1_conv[0][0]']    \n",
      " ization)                                                                                         \n",
      "                                                                                                  \n",
      " conv4_block5_1_relu (Activatio  (None, 10, 10, 256)  0          ['conv4_block5_1_bn[0][0]']      \n",
      " n)                                                                                               \n",
      "                                                                                                  \n",
      " conv4_block5_2_conv (Conv2D)   (None, 10, 10, 256)  590080      ['conv4_block5_1_relu[0][0]']    \n",
      "                                                                                                  \n",
      " conv4_block5_2_bn (BatchNormal  (None, 10, 10, 256)  1024       ['conv4_block5_2_conv[0][0]']    \n",
      " ization)                                                                                         \n",
      "                                                                                                  \n",
      " conv4_block5_2_relu (Activatio  (None, 10, 10, 256)  0          ['conv4_block5_2_bn[0][0]']      \n",
      " n)                                                                                               \n",
      "                                                                                                  \n",
      " conv4_block5_3_conv (Conv2D)   (None, 10, 10, 1024  263168      ['conv4_block5_2_relu[0][0]']    \n",
      "                                )                                                                 \n",
      "                                                                                                  \n",
      " conv4_block5_3_bn (BatchNormal  (None, 10, 10, 1024  4096       ['conv4_block5_3_conv[0][0]']    \n",
      " ization)                       )                                                                 \n",
      "                                                                                                  \n",
      " conv4_block5_add (Add)         (None, 10, 10, 1024  0           ['conv4_block4_out[0][0]',       \n",
      "                                )                                 'conv4_block5_3_bn[0][0]']      \n",
      "                                                                                                  \n",
      " conv4_block5_out (Activation)  (None, 10, 10, 1024  0           ['conv4_block5_add[0][0]']       \n",
      "                                )                                                                 \n",
      "                                                                                                  \n",
      " conv4_block6_1_conv (Conv2D)   (None, 10, 10, 256)  262400      ['conv4_block5_out[0][0]']       \n",
      "                                                                                                  \n",
      " conv4_block6_1_bn (BatchNormal  (None, 10, 10, 256)  1024       ['conv4_block6_1_conv[0][0]']    \n",
      " ization)                                                                                         \n",
      "                                                                                                  \n",
      " conv4_block6_1_relu (Activatio  (None, 10, 10, 256)  0          ['conv4_block6_1_bn[0][0]']      \n",
      " n)                                                                                               \n",
      "                                                                                                  \n",
      " conv4_block6_2_conv (Conv2D)   (None, 10, 10, 256)  590080      ['conv4_block6_1_relu[0][0]']    \n",
      "                                                                                                  \n",
      " conv4_block6_2_bn (BatchNormal  (None, 10, 10, 256)  1024       ['conv4_block6_2_conv[0][0]']    \n",
      " ization)                                                                                         \n",
      "                                                                                                  \n",
      " conv4_block6_2_relu (Activatio  (None, 10, 10, 256)  0          ['conv4_block6_2_bn[0][0]']      \n",
      " n)                                                                                               \n",
      "                                                                                                  \n",
      " conv4_block6_3_conv (Conv2D)   (None, 10, 10, 1024  263168      ['conv4_block6_2_relu[0][0]']    \n",
      "                                )                                                                 \n",
      "                                                                                                  \n",
      " conv4_block6_3_bn (BatchNormal  (None, 10, 10, 1024  4096       ['conv4_block6_3_conv[0][0]']    \n",
      " ization)                       )                                                                 \n",
      "                                                                                                  \n",
      " conv4_block6_add (Add)         (None, 10, 10, 1024  0           ['conv4_block5_out[0][0]',       \n",
      "                                )                                 'conv4_block6_3_bn[0][0]']      \n",
      "                                                                                                  \n",
      " conv4_block6_out (Activation)  (None, 10, 10, 1024  0           ['conv4_block6_add[0][0]']       \n",
      "                                )                                                                 \n",
      "                                                                                                  \n",
      " conv5_block1_1_conv (Conv2D)   (None, 5, 5, 512)    524800      ['conv4_block6_out[0][0]']       \n",
      "                                                                                                  \n",
      " conv5_block1_1_bn (BatchNormal  (None, 5, 5, 512)   2048        ['conv5_block1_1_conv[0][0]']    \n",
      " ization)                                                                                         \n",
      "                                                                                                  \n",
      " conv5_block1_1_relu (Activatio  (None, 5, 5, 512)   0           ['conv5_block1_1_bn[0][0]']      \n",
      " n)                                                                                               \n",
      "                                                                                                  \n",
      " conv5_block1_2_conv (Conv2D)   (None, 5, 5, 512)    2359808     ['conv5_block1_1_relu[0][0]']    \n",
      "                                                                                                  \n",
      " conv5_block1_2_bn (BatchNormal  (None, 5, 5, 512)   2048        ['conv5_block1_2_conv[0][0]']    \n",
      " ization)                                                                                         \n",
      "                                                                                                  \n",
      " conv5_block1_2_relu (Activatio  (None, 5, 5, 512)   0           ['conv5_block1_2_bn[0][0]']      \n",
      " n)                                                                                               \n",
      "                                                                                                  \n",
      " conv5_block1_0_conv (Conv2D)   (None, 5, 5, 2048)   2099200     ['conv4_block6_out[0][0]']       \n",
      "                                                                                                  \n",
      " conv5_block1_3_conv (Conv2D)   (None, 5, 5, 2048)   1050624     ['conv5_block1_2_relu[0][0]']    \n",
      "                                                                                                  \n",
      " conv5_block1_0_bn (BatchNormal  (None, 5, 5, 2048)  8192        ['conv5_block1_0_conv[0][0]']    \n",
      " ization)                                                                                         \n",
      "                                                                                                  \n",
      " conv5_block1_3_bn (BatchNormal  (None, 5, 5, 2048)  8192        ['conv5_block1_3_conv[0][0]']    \n",
      " ization)                                                                                         \n",
      "                                                                                                  \n",
      " conv5_block1_add (Add)         (None, 5, 5, 2048)   0           ['conv5_block1_0_bn[0][0]',      \n",
      "                                                                  'conv5_block1_3_bn[0][0]']      \n",
      "                                                                                                  \n",
      " conv5_block1_out (Activation)  (None, 5, 5, 2048)   0           ['conv5_block1_add[0][0]']       \n",
      "                                                                                                  \n",
      " conv5_block2_1_conv (Conv2D)   (None, 5, 5, 512)    1049088     ['conv5_block1_out[0][0]']       \n",
      "                                                                                                  \n",
      " conv5_block2_1_bn (BatchNormal  (None, 5, 5, 512)   2048        ['conv5_block2_1_conv[0][0]']    \n",
      " ization)                                                                                         \n",
      "                                                                                                  \n",
      " conv5_block2_1_relu (Activatio  (None, 5, 5, 512)   0           ['conv5_block2_1_bn[0][0]']      \n",
      " n)                                                                                               \n",
      "                                                                                                  \n",
      " conv5_block2_2_conv (Conv2D)   (None, 5, 5, 512)    2359808     ['conv5_block2_1_relu[0][0]']    \n",
      "                                                                                                  \n",
      " conv5_block2_2_bn (BatchNormal  (None, 5, 5, 512)   2048        ['conv5_block2_2_conv[0][0]']    \n",
      " ization)                                                                                         \n",
      "                                                                                                  \n",
      " conv5_block2_2_relu (Activatio  (None, 5, 5, 512)   0           ['conv5_block2_2_bn[0][0]']      \n",
      " n)                                                                                               \n",
      "                                                                                                  \n",
      " conv5_block2_3_conv (Conv2D)   (None, 5, 5, 2048)   1050624     ['conv5_block2_2_relu[0][0]']    \n",
      "                                                                                                  \n",
      " conv5_block2_3_bn (BatchNormal  (None, 5, 5, 2048)  8192        ['conv5_block2_3_conv[0][0]']    \n",
      " ization)                                                                                         \n",
      "                                                                                                  \n",
      " conv5_block2_add (Add)         (None, 5, 5, 2048)   0           ['conv5_block1_out[0][0]',       \n",
      "                                                                  'conv5_block2_3_bn[0][0]']      \n",
      "                                                                                                  \n",
      " conv5_block2_out (Activation)  (None, 5, 5, 2048)   0           ['conv5_block2_add[0][0]']       \n",
      "                                                                                                  \n",
      " conv5_block3_1_conv (Conv2D)   (None, 5, 5, 512)    1049088     ['conv5_block2_out[0][0]']       \n",
      "                                                                                                  \n",
      " conv5_block3_1_bn (BatchNormal  (None, 5, 5, 512)   2048        ['conv5_block3_1_conv[0][0]']    \n",
      " ization)                                                                                         \n",
      "                                                                                                  \n",
      " conv5_block3_1_relu (Activatio  (None, 5, 5, 512)   0           ['conv5_block3_1_bn[0][0]']      \n",
      " n)                                                                                               \n",
      "                                                                                                  \n",
      " conv5_block3_2_conv (Conv2D)   (None, 5, 5, 512)    2359808     ['conv5_block3_1_relu[0][0]']    \n",
      "                                                                                                  \n",
      " conv5_block3_2_bn (BatchNormal  (None, 5, 5, 512)   2048        ['conv5_block3_2_conv[0][0]']    \n",
      " ization)                                                                                         \n",
      "                                                                                                  \n",
      " conv5_block3_2_relu (Activatio  (None, 5, 5, 512)   0           ['conv5_block3_2_bn[0][0]']      \n",
      " n)                                                                                               \n",
      "                                                                                                  \n",
      " conv5_block3_3_conv (Conv2D)   (None, 5, 5, 2048)   1050624     ['conv5_block3_2_relu[0][0]']    \n",
      "                                                                                                  \n",
      " conv5_block3_3_bn (BatchNormal  (None, 5, 5, 2048)  8192        ['conv5_block3_3_conv[0][0]']    \n",
      " ization)                                                                                         \n",
      "                                                                                                  \n",
      " conv5_block3_add (Add)         (None, 5, 5, 2048)   0           ['conv5_block2_out[0][0]',       \n",
      "                                                                  'conv5_block3_3_bn[0][0]']      \n",
      "                                                                                                  \n",
      " conv5_block3_out (Activation)  (None, 5, 5, 2048)   0           ['conv5_block3_add[0][0]']       \n",
      "                                                                                                  \n",
      " global_average_pooling2d (Glob  (None, 2048)        0           ['conv5_block3_out[0][0]']       \n",
      " alAveragePooling2D)                                                                              \n",
      "                                                                                                  \n",
      " dense_2 (Dense)                (None, 1024)         2098176     ['global_average_pooling2d[0][0]'\n",
      "                                                                 ]                                \n",
      "                                                                                                  \n",
      " dropout_1 (Dropout)            (None, 1024)         0           ['dense_2[0][0]']                \n",
      "                                                                                                  \n",
      " dense_3 (Dense)                (None, 5)            5125        ['dropout_1[0][0]']              \n",
      "                                                                                                  \n",
      "==================================================================================================\n",
      "Total params: 25,691,013\n",
      "Trainable params: 2,103,301\n",
      "Non-trainable params: 23,587,712\n",
      "__________________________________________________________________________________________________\n"
     ]
    }
   ],
   "source": [
    "from tensorflow.keras.applications import ResNet50\n",
    "from tensorflow.keras.layers import Dense, GlobalAveragePooling2D, Dropout\n",
    "from tensorflow.keras.models import Model\n",
    "from tensorflow.keras.optimizers import Adam\n",
    "\n",
    "# Загрузка предобученной модели ResNet50 без последнего слоя\n",
    "res_net_50_model = ResNet50(weights='imagenet', include_top=False, input_shape=(IMAGE_SIZE, IMAGE_SIZE, 3))\n",
    "\n",
    "# Замораживаем веса предобученной основы модели\n",
    "for layer in res_net_50_model.layers:\n",
    "    layer.trainable = False\n",
    "\n",
    "# Добавление новых слоев\n",
    "x = res_net_50_model.output\n",
    "x = GlobalAveragePooling2D()(x)                 # Добавляем глобальный средний слой пулинга\n",
    "x = Dense(1024, activation='relu')(x)           # Полносвязный слой на 1024 нейрона с relu активацией\n",
    "x = Dropout(0.5)(x)                             # Слой Dropout для борьбы с переобучением\n",
    "predictions = Dense(num_classes, activation='softmax')(x) # Выходной слой на 5 классов\n",
    "\n",
    "res_net_50_fine_tune_model = Model(inputs=res_net_50_model.input, outputs=predictions)\n",
    "\n",
    "res_net_50_fine_tune_model.compile(optimizer=Adam(lr=0.0001), loss='categorical_crossentropy', metrics=['accuracy'])\n",
    "\n",
    "res_net_50_fine_tune_model.summary()"
   ]
  },
  {
   "cell_type": "markdown",
   "metadata": {},
   "source": [
    "#### Train model"
   ]
  },
  {
   "cell_type": "code",
   "execution_count": 33,
   "metadata": {
    "execution": {
     "iopub.execute_input": "2024-05-10T12:57:08.571572Z",
     "iopub.status.busy": "2024-05-10T12:57:08.571235Z",
     "iopub.status.idle": "2024-05-10T13:01:30.149639Z",
     "shell.execute_reply": "2024-05-10T13:01:30.148839Z",
     "shell.execute_reply.started": "2024-05-10T12:57:08.571549Z"
    },
    "tags": []
   },
   "outputs": [
    {
     "name": "stderr",
     "output_type": "stream",
     "text": [
      "2024-05-10 12:57:08.921154: I tensorflow/core/common_runtime/executor.cc:1197] [/device:CPU:0] (DEBUG INFO) Executor start aborting (this does not indicate an error and you can ignore this message): INVALID_ARGUMENT: You must feed a value for placeholder tensor 'Placeholder/_0' with dtype int32\n",
      "\t [[{{node Placeholder/_0}}]]\n"
     ]
    },
    {
     "name": "stdout",
     "output_type": "stream",
     "text": [
      "Epoch 1/20\n",
      "25/25 [==============================] - ETA: 0s - loss: 1.7908 - accuracy: 0.2150"
     ]
    },
    {
     "name": "stderr",
     "output_type": "stream",
     "text": [
      "2024-05-10 12:57:22.552847: I tensorflow/core/common_runtime/executor.cc:1197] [/device:CPU:0] (DEBUG INFO) Executor start aborting (this does not indicate an error and you can ignore this message): INVALID_ARGUMENT: You must feed a value for placeholder tensor 'Placeholder/_0' with dtype int32\n",
      "\t [[{{node Placeholder/_0}}]]\n"
     ]
    },
    {
     "name": "stdout",
     "output_type": "stream",
     "text": [
      "25/25 [==============================] - 16s 561ms/step - loss: 1.7908 - accuracy: 0.2150 - val_loss: 1.6051 - val_accuracy: 0.2300\n",
      "Epoch 2/20\n",
      "25/25 [==============================] - 13s 496ms/step - loss: 1.6528 - accuracy: 0.2387 - val_loss: 1.5472 - val_accuracy: 0.3600\n",
      "Epoch 3/20\n",
      "25/25 [==============================] - 13s 513ms/step - loss: 1.6128 - accuracy: 0.2612 - val_loss: 1.5519 - val_accuracy: 0.2700\n",
      "Epoch 4/20\n",
      "25/25 [==============================] - 13s 506ms/step - loss: 1.5772 - accuracy: 0.2825 - val_loss: 1.5903 - val_accuracy: 0.2950\n",
      "Epoch 5/20\n",
      "25/25 [==============================] - 13s 503ms/step - loss: 1.5528 - accuracy: 0.3100 - val_loss: 1.5366 - val_accuracy: 0.3250\n",
      "Epoch 6/20\n",
      "25/25 [==============================] - 13s 504ms/step - loss: 1.5305 - accuracy: 0.3175 - val_loss: 1.5258 - val_accuracy: 0.3400\n",
      "Epoch 7/20\n",
      "25/25 [==============================] - 13s 516ms/step - loss: 1.5285 - accuracy: 0.3100 - val_loss: 1.5095 - val_accuracy: 0.3750\n",
      "Epoch 8/20\n",
      "25/25 [==============================] - 13s 512ms/step - loss: 1.5300 - accuracy: 0.3013 - val_loss: 1.4958 - val_accuracy: 0.3700\n",
      "Epoch 9/20\n",
      "25/25 [==============================] - 13s 521ms/step - loss: 1.4986 - accuracy: 0.3275 - val_loss: 1.4779 - val_accuracy: 0.3900\n",
      "Epoch 10/20\n",
      "25/25 [==============================] - 13s 509ms/step - loss: 1.4836 - accuracy: 0.3587 - val_loss: 1.5214 - val_accuracy: 0.3350\n",
      "Epoch 11/20\n",
      "25/25 [==============================] - 13s 518ms/step - loss: 1.5118 - accuracy: 0.3175 - val_loss: 1.4658 - val_accuracy: 0.4050\n",
      "Epoch 12/20\n",
      "25/25 [==============================] - 13s 499ms/step - loss: 1.4812 - accuracy: 0.3425 - val_loss: 1.4743 - val_accuracy: 0.3700\n",
      "Epoch 13/20\n",
      "25/25 [==============================] - 13s 507ms/step - loss: 1.4745 - accuracy: 0.3487 - val_loss: 1.4878 - val_accuracy: 0.3300\n",
      "Epoch 14/20\n",
      "25/25 [==============================] - 13s 512ms/step - loss: 1.4955 - accuracy: 0.3413 - val_loss: 1.5337 - val_accuracy: 0.3350\n",
      "Epoch 15/20\n",
      "25/25 [==============================] - 13s 498ms/step - loss: 1.5071 - accuracy: 0.3212 - val_loss: 1.4429 - val_accuracy: 0.3800\n",
      "Epoch 16/20\n",
      "25/25 [==============================] - 13s 521ms/step - loss: 1.4900 - accuracy: 0.3562 - val_loss: 1.4373 - val_accuracy: 0.3750\n",
      "Epoch 17/20\n",
      "25/25 [==============================] - 13s 502ms/step - loss: 1.4755 - accuracy: 0.3512 - val_loss: 1.4702 - val_accuracy: 0.3600\n",
      "Epoch 18/20\n",
      "25/25 [==============================] - 13s 520ms/step - loss: 1.4789 - accuracy: 0.3700 - val_loss: 1.4546 - val_accuracy: 0.3800\n",
      "Epoch 19/20\n",
      "25/25 [==============================] - 13s 504ms/step - loss: 1.4838 - accuracy: 0.3500 - val_loss: 1.4535 - val_accuracy: 0.3750\n",
      "Epoch 20/20\n",
      "25/25 [==============================] - 13s 517ms/step - loss: 1.4612 - accuracy: 0.3812 - val_loss: 1.4379 - val_accuracy: 0.4150\n"
     ]
    },
    {
     "data": {
      "image/png": "[encoded data removed]",
      "text/plain": [
       "<Figure size 576x576 with 1 Axes>"
      ]
     },
     "metadata": {
      "needs_background": "light"
     },
     "output_type": "display_data"
    }
   ],
   "source": [
    "res_net_50_fine_tune_history = res_net_50_fine_tune_model.fit(\n",
    "    train_generator,\n",
    "    epochs=NUM_EPOCHS,\n",
    "    validation_data=test_generator\n",
    ")\n",
    "show_history(res_net_50_fine_tune_history, 'ResNet50 Pretrained')"
   ]
  },
  {
   "cell_type": "markdown",
   "metadata": {},
   "source": [
    "#### Visualization result"
   ]
  },
  {
   "cell_type": "code",
   "execution_count": 34,
   "metadata": {
    "execution": {
     "iopub.execute_input": "2024-05-10T13:01:30.151720Z",
     "iopub.status.busy": "2024-05-10T13:01:30.151281Z",
     "iopub.status.idle": "2024-05-10T13:01:32.375601Z",
     "shell.execute_reply": "2024-05-10T13:01:32.374872Z",
     "shell.execute_reply.started": "2024-05-10T13:01:30.151689Z"
    },
    "tags": []
   },
   "outputs": [
    {
     "name": "stderr",
     "output_type": "stream",
     "text": [
      "2024-05-10 13:01:30.369708: I tensorflow/core/common_runtime/executor.cc:1197] [/device:CPU:0] (DEBUG INFO) Executor start aborting (this does not indicate an error and you can ignore this message): INVALID_ARGUMENT: You must feed a value for placeholder tensor 'Placeholder/_0' with dtype int32\n",
      "\t [[{{node Placeholder/_0}}]]\n"
     ]
    },
    {
     "name": "stdout",
     "output_type": "stream",
     "text": [
      "7/7 [==============================] - 2s 250ms/step - loss: 1.4379 - accuracy: 0.4150\n",
      "ResNet50 Pretrained accuracy: 0.41499999165534973\n"
     ]
    }
   ],
   "source": [
    "print_accuracy(res_net_50_fine_tune_model, test_generator, 'ResNet50 Pretrained')"
   ]
  },
  {
   "cell_type": "code",
   "execution_count": 35,
   "metadata": {
    "execution": {
     "iopub.execute_input": "2024-05-10T13:01:32.376829Z",
     "iopub.status.busy": "2024-05-10T13:01:32.376432Z",
     "iopub.status.idle": "2024-05-10T13:01:37.293168Z",
     "shell.execute_reply": "2024-05-10T13:01:37.292412Z",
     "shell.execute_reply.started": "2024-05-10T13:01:32.376807Z"
    },
    "tags": []
   },
   "outputs": [
    {
     "name": "stdout",
     "output_type": "stream",
     "text": [
      "1/1 [==============================] - 1s 1s/step\n",
      "1/1 [==============================] - 0s 255ms/step\n",
      "1/1 [==============================] - 0s 254ms/step\n",
      "1/1 [==============================] - 0s 264ms/step\n",
      "1/1 [==============================] - 0s 269ms/step\n",
      "1/1 [==============================] - 0s 263ms/step\n",
      "1/1 [==============================] - 1s 710ms/step\n"
     ]
    },
    {
     "data": {
      "image/png": "[encoded data removed]",
      "text/plain": [
       "<Figure size 720x504 with 2 Axes>"
      ]
     },
     "metadata": {
      "needs_background": "light"
     },
     "output_type": "display_data"
    }
   ],
   "source": [
    "show_confusion_matrix(res_net_50_fine_tune_model, test_generator, 'ResNet50 Pretrained')"
   ]
  },
  {
   "cell_type": "markdown",
   "metadata": {
    "tags": []
   },
   "source": [
    "### Pretrained MobileNetV2 model"
   ]
  },
  {
   "cell_type": "markdown",
   "metadata": {},
   "source": [
    "#### Build model"
   ]
  },
  {
   "cell_type": "code",
   "execution_count": 36,
   "metadata": {
    "execution": {
     "iopub.execute_input": "2024-05-10T13:01:37.294582Z",
     "iopub.status.busy": "2024-05-10T13:01:37.294191Z",
     "iopub.status.idle": "2024-05-10T13:01:38.568130Z",
     "shell.execute_reply": "2024-05-10T13:01:38.567308Z",
     "shell.execute_reply.started": "2024-05-10T13:01:37.294546Z"
    },
    "tags": []
   },
   "outputs": [
    {
     "name": "stderr",
     "output_type": "stream",
     "text": [
      "WARNING:absl:`lr` is deprecated in Keras optimizer, please use `learning_rate` or use the legacy optimizer, e.g.,tf.keras.optimizers.legacy.Adam.\n"
     ]
    },
    {
     "name": "stdout",
     "output_type": "stream",
     "text": [
      "Model: \"model_1\"\n",
      "__________________________________________________________________________________________________\n",
      " Layer (type)                   Output Shape         Param #     Connected to                     \n",
      "==================================================================================================\n",
      " input_2 (InputLayer)           [(None, 160, 160, 3  0           []                               \n",
      "                                )]                                                                \n",
      "                                                                                                  \n",
      " Conv1 (Conv2D)                 (None, 80, 80, 32)   864         ['input_2[0][0]']                \n",
      "                                                                                                  \n",
      " bn_Conv1 (BatchNormalization)  (None, 80, 80, 32)   128         ['Conv1[0][0]']                  \n",
      "                                                                                                  \n",
      " Conv1_relu (ReLU)              (None, 80, 80, 32)   0           ['bn_Conv1[0][0]']               \n",
      "                                                                                                  \n",
      " expanded_conv_depthwise (Depth  (None, 80, 80, 32)  288         ['Conv1_relu[0][0]']             \n",
      " wiseConv2D)                                                                                      \n",
      "                                                                                                  \n",
      " expanded_conv_depthwise_BN (Ba  (None, 80, 80, 32)  128         ['expanded_conv_depthwise[0][0]']\n",
      " tchNormalization)                                                                                \n",
      "                                                                                                  \n",
      " expanded_conv_depthwise_relu (  (None, 80, 80, 32)  0           ['expanded_conv_depthwise_BN[0][0\n",
      " ReLU)                                                           ]']                              \n",
      "                                                                                                  \n",
      " expanded_conv_project (Conv2D)  (None, 80, 80, 16)  512         ['expanded_conv_depthwise_relu[0]\n",
      "                                                                 [0]']                            \n",
      "                                                                                                  \n",
      " expanded_conv_project_BN (Batc  (None, 80, 80, 16)  64          ['expanded_conv_project[0][0]']  \n",
      " hNormalization)                                                                                  \n",
      "                                                                                                  \n",
      " block_1_expand (Conv2D)        (None, 80, 80, 96)   1536        ['expanded_conv_project_BN[0][0]'\n",
      "                                                                 ]                                \n",
      "                                                                                                  \n",
      " block_1_expand_BN (BatchNormal  (None, 80, 80, 96)  384         ['block_1_expand[0][0]']         \n",
      " ization)                                                                                         \n",
      "                                                                                                  \n",
      " block_1_expand_relu (ReLU)     (None, 80, 80, 96)   0           ['block_1_expand_BN[0][0]']      \n",
      "                                                                                                  \n",
      " block_1_pad (ZeroPadding2D)    (None, 81, 81, 96)   0           ['block_1_expand_relu[0][0]']    \n",
      "                                                                                                  \n",
      " block_1_depthwise (DepthwiseCo  (None, 40, 40, 96)  864         ['block_1_pad[0][0]']            \n",
      " nv2D)                                                                                            \n",
      "                                                                                                  \n",
      " block_1_depthwise_BN (BatchNor  (None, 40, 40, 96)  384         ['block_1_depthwise[0][0]']      \n",
      " malization)                                                                                      \n",
      "                                                                                                  \n",
      " block_1_depthwise_relu (ReLU)  (None, 40, 40, 96)   0           ['block_1_depthwise_BN[0][0]']   \n",
      "                                                                                                  \n",
      " block_1_project (Conv2D)       (None, 40, 40, 24)   2304        ['block_1_depthwise_relu[0][0]'] \n",
      "                                                                                                  \n",
      " block_1_project_BN (BatchNorma  (None, 40, 40, 24)  96          ['block_1_project[0][0]']        \n",
      " lization)                                                                                        \n",
      "                                                                                                  \n",
      " block_2_expand (Conv2D)        (None, 40, 40, 144)  3456        ['block_1_project_BN[0][0]']     \n",
      "                                                                                                  \n",
      " block_2_expand_BN (BatchNormal  (None, 40, 40, 144)  576        ['block_2_expand[0][0]']         \n",
      " ization)                                                                                         \n",
      "                                                                                                  \n",
      " block_2_expand_relu (ReLU)     (None, 40, 40, 144)  0           ['block_2_expand_BN[0][0]']      \n",
      "                                                                                                  \n",
      " block_2_depthwise (DepthwiseCo  (None, 40, 40, 144)  1296       ['block_2_expand_relu[0][0]']    \n",
      " nv2D)                                                                                            \n",
      "                                                                                                  \n",
      " block_2_depthwise_BN (BatchNor  (None, 40, 40, 144)  576        ['block_2_depthwise[0][0]']      \n",
      " malization)                                                                                      \n",
      "                                                                                                  \n",
      " block_2_depthwise_relu (ReLU)  (None, 40, 40, 144)  0           ['block_2_depthwise_BN[0][0]']   \n",
      "                                                                                                  \n",
      " block_2_project (Conv2D)       (None, 40, 40, 24)   3456        ['block_2_depthwise_relu[0][0]'] \n",
      "                                                                                                  \n",
      " block_2_project_BN (BatchNorma  (None, 40, 40, 24)  96          ['block_2_project[0][0]']        \n",
      " lization)                                                                                        \n",
      "                                                                                                  \n",
      " block_2_add (Add)              (None, 40, 40, 24)   0           ['block_1_project_BN[0][0]',     \n",
      "                                                                  'block_2_project_BN[0][0]']     \n",
      "                                                                                                  \n",
      " block_3_expand (Conv2D)        (None, 40, 40, 144)  3456        ['block_2_add[0][0]']            \n",
      "                                                                                                  \n",
      " block_3_expand_BN (BatchNormal  (None, 40, 40, 144)  576        ['block_3_expand[0][0]']         \n",
      " ization)                                                                                         \n",
      "                                                                                                  \n",
      " block_3_expand_relu (ReLU)     (None, 40, 40, 144)  0           ['block_3_expand_BN[0][0]']      \n",
      "                                                                                                  \n",
      " block_3_pad (ZeroPadding2D)    (None, 41, 41, 144)  0           ['block_3_expand_relu[0][0]']    \n",
      "                                                                                                  \n",
      " block_3_depthwise (DepthwiseCo  (None, 20, 20, 144)  1296       ['block_3_pad[0][0]']            \n",
      " nv2D)                                                                                            \n",
      "                                                                                                  \n",
      " block_3_depthwise_BN (BatchNor  (None, 20, 20, 144)  576        ['block_3_depthwise[0][0]']      \n",
      " malization)                                                                                      \n",
      "                                                                                                  \n",
      " block_3_depthwise_relu (ReLU)  (None, 20, 20, 144)  0           ['block_3_depthwise_BN[0][0]']   \n",
      "                                                                                                  \n",
      " block_3_project (Conv2D)       (None, 20, 20, 32)   4608        ['block_3_depthwise_relu[0][0]'] \n",
      "                                                                                                  \n",
      " block_3_project_BN (BatchNorma  (None, 20, 20, 32)  128         ['block_3_project[0][0]']        \n",
      " lization)                                                                                        \n",
      "                                                                                                  \n",
      " block_4_expand (Conv2D)        (None, 20, 20, 192)  6144        ['block_3_project_BN[0][0]']     \n",
      "                                                                                                  \n",
      " block_4_expand_BN (BatchNormal  (None, 20, 20, 192)  768        ['block_4_expand[0][0]']         \n",
      " ization)                                                                                         \n",
      "                                                                                                  \n",
      " block_4_expand_relu (ReLU)     (None, 20, 20, 192)  0           ['block_4_expand_BN[0][0]']      \n",
      "                                                                                                  \n",
      " block_4_depthwise (DepthwiseCo  (None, 20, 20, 192)  1728       ['block_4_expand_relu[0][0]']    \n",
      " nv2D)                                                                                            \n",
      "                                                                                                  \n",
      " block_4_depthwise_BN (BatchNor  (None, 20, 20, 192)  768        ['block_4_depthwise[0][0]']      \n",
      " malization)                                                                                      \n",
      "                                                                                                  \n",
      " block_4_depthwise_relu (ReLU)  (None, 20, 20, 192)  0           ['block_4_depthwise_BN[0][0]']   \n",
      "                                                                                                  \n",
      " block_4_project (Conv2D)       (None, 20, 20, 32)   6144        ['block_4_depthwise_relu[0][0]'] \n",
      "                                                                                                  \n",
      " block_4_project_BN (BatchNorma  (None, 20, 20, 32)  128         ['block_4_project[0][0]']        \n",
      " lization)                                                                                        \n",
      "                                                                                                  \n",
      " block_4_add (Add)              (None, 20, 20, 32)   0           ['block_3_project_BN[0][0]',     \n",
      "                                                                  'block_4_project_BN[0][0]']     \n",
      "                                                                                                  \n",
      " block_5_expand (Conv2D)        (None, 20, 20, 192)  6144        ['block_4_add[0][0]']            \n",
      "                                                                                                  \n",
      " block_5_expand_BN (BatchNormal  (None, 20, 20, 192)  768        ['block_5_expand[0][0]']         \n",
      " ization)                                                                                         \n",
      "                                                                                                  \n",
      " block_5_expand_relu (ReLU)     (None, 20, 20, 192)  0           ['block_5_expand_BN[0][0]']      \n",
      "                                                                                                  \n",
      " block_5_depthwise (DepthwiseCo  (None, 20, 20, 192)  1728       ['block_5_expand_relu[0][0]']    \n",
      " nv2D)                                                                                            \n",
      "                                                                                                  \n",
      " block_5_depthwise_BN (BatchNor  (None, 20, 20, 192)  768        ['block_5_depthwise[0][0]']      \n",
      " malization)                                                                                      \n",
      "                                                                                                  \n",
      " block_5_depthwise_relu (ReLU)  (None, 20, 20, 192)  0           ['block_5_depthwise_BN[0][0]']   \n",
      "                                                                                                  \n",
      " block_5_project (Conv2D)       (None, 20, 20, 32)   6144        ['block_5_depthwise_relu[0][0]'] \n",
      "                                                                                                  \n",
      " block_5_project_BN (BatchNorma  (None, 20, 20, 32)  128         ['block_5_project[0][0]']        \n",
      " lization)                                                                                        \n",
      "                                                                                                  \n",
      " block_5_add (Add)              (None, 20, 20, 32)   0           ['block_4_add[0][0]',            \n",
      "                                                                  'block_5_project_BN[0][0]']     \n",
      "                                                                                                  \n",
      " block_6_expand (Conv2D)        (None, 20, 20, 192)  6144        ['block_5_add[0][0]']            \n",
      "                                                                                                  \n",
      " block_6_expand_BN (BatchNormal  (None, 20, 20, 192)  768        ['block_6_expand[0][0]']         \n",
      " ization)                                                                                         \n",
      "                                                                                                  \n",
      " block_6_expand_relu (ReLU)     (None, 20, 20, 192)  0           ['block_6_expand_BN[0][0]']      \n",
      "                                                                                                  \n",
      " block_6_pad (ZeroPadding2D)    (None, 21, 21, 192)  0           ['block_6_expand_relu[0][0]']    \n",
      "                                                                                                  \n",
      " block_6_depthwise (DepthwiseCo  (None, 10, 10, 192)  1728       ['block_6_pad[0][0]']            \n",
      " nv2D)                                                                                            \n",
      "                                                                                                  \n",
      " block_6_depthwise_BN (BatchNor  (None, 10, 10, 192)  768        ['block_6_depthwise[0][0]']      \n",
      " malization)                                                                                      \n",
      "                                                                                                  \n",
      " block_6_depthwise_relu (ReLU)  (None, 10, 10, 192)  0           ['block_6_depthwise_BN[0][0]']   \n",
      "                                                                                                  \n",
      " block_6_project (Conv2D)       (None, 10, 10, 64)   12288       ['block_6_depthwise_relu[0][0]'] \n",
      "                                                                                                  \n",
      " block_6_project_BN (BatchNorma  (None, 10, 10, 64)  256         ['block_6_project[0][0]']        \n",
      " lization)                                                                                        \n",
      "                                                                                                  \n",
      " block_7_expand (Conv2D)        (None, 10, 10, 384)  24576       ['block_6_project_BN[0][0]']     \n",
      "                                                                                                  \n",
      " block_7_expand_BN (BatchNormal  (None, 10, 10, 384)  1536       ['block_7_expand[0][0]']         \n",
      " ization)                                                                                         \n",
      "                                                                                                  \n",
      " block_7_expand_relu (ReLU)     (None, 10, 10, 384)  0           ['block_7_expand_BN[0][0]']      \n",
      "                                                                                                  \n",
      " block_7_depthwise (DepthwiseCo  (None, 10, 10, 384)  3456       ['block_7_expand_relu[0][0]']    \n",
      " nv2D)                                                                                            \n",
      "                                                                                                  \n",
      " block_7_depthwise_BN (BatchNor  (None, 10, 10, 384)  1536       ['block_7_depthwise[0][0]']      \n",
      " malization)                                                                                      \n",
      "                                                                                                  \n",
      " block_7_depthwise_relu (ReLU)  (None, 10, 10, 384)  0           ['block_7_depthwise_BN[0][0]']   \n",
      "                                                                                                  \n",
      " block_7_project (Conv2D)       (None, 10, 10, 64)   24576       ['block_7_depthwise_relu[0][0]'] \n",
      "                                                                                                  \n",
      " block_7_project_BN (BatchNorma  (None, 10, 10, 64)  256         ['block_7_project[0][0]']        \n",
      " lization)                                                                                        \n",
      "                                                                                                  \n",
      " block_7_add (Add)              (None, 10, 10, 64)   0           ['block_6_project_BN[0][0]',     \n",
      "                                                                  'block_7_project_BN[0][0]']     \n",
      "                                                                                                  \n",
      " block_8_expand (Conv2D)        (None, 10, 10, 384)  24576       ['block_7_add[0][0]']            \n",
      "                                                                                                  \n",
      " block_8_expand_BN (BatchNormal  (None, 10, 10, 384)  1536       ['block_8_expand[0][0]']         \n",
      " ization)                                                                                         \n",
      "                                                                                                  \n",
      " block_8_expand_relu (ReLU)     (None, 10, 10, 384)  0           ['block_8_expand_BN[0][0]']      \n",
      "                                                                                                  \n",
      " block_8_depthwise (DepthwiseCo  (None, 10, 10, 384)  3456       ['block_8_expand_relu[0][0]']    \n",
      " nv2D)                                                                                            \n",
      "                                                                                                  \n",
      " block_8_depthwise_BN (BatchNor  (None, 10, 10, 384)  1536       ['block_8_depthwise[0][0]']      \n",
      " malization)                                                                                      \n",
      "                                                                                                  \n",
      " block_8_depthwise_relu (ReLU)  (None, 10, 10, 384)  0           ['block_8_depthwise_BN[0][0]']   \n",
      "                                                                                                  \n",
      " block_8_project (Conv2D)       (None, 10, 10, 64)   24576       ['block_8_depthwise_relu[0][0]'] \n",
      "                                                                                                  \n",
      " block_8_project_BN (BatchNorma  (None, 10, 10, 64)  256         ['block_8_project[0][0]']        \n",
      " lization)                                                                                        \n",
      "                                                                                                  \n",
      " block_8_add (Add)              (None, 10, 10, 64)   0           ['block_7_add[0][0]',            \n",
      "                                                                  'block_8_project_BN[0][0]']     \n",
      "                                                                                                  \n",
      " block_9_expand (Conv2D)        (None, 10, 10, 384)  24576       ['block_8_add[0][0]']            \n",
      "                                                                                                  \n",
      " block_9_expand_BN (BatchNormal  (None, 10, 10, 384)  1536       ['block_9_expand[0][0]']         \n",
      " ization)                                                                                         \n",
      "                                                                                                  \n",
      " block_9_expand_relu (ReLU)     (None, 10, 10, 384)  0           ['block_9_expand_BN[0][0]']      \n",
      "                                                                                                  \n",
      " block_9_depthwise (DepthwiseCo  (None, 10, 10, 384)  3456       ['block_9_expand_relu[0][0]']    \n",
      " nv2D)                                                                                            \n",
      "                                                                                                  \n",
      " block_9_depthwise_BN (BatchNor  (None, 10, 10, 384)  1536       ['block_9_depthwise[0][0]']      \n",
      " malization)                                                                                      \n",
      "                                                                                                  \n",
      " block_9_depthwise_relu (ReLU)  (None, 10, 10, 384)  0           ['block_9_depthwise_BN[0][0]']   \n",
      "                                                                                                  \n",
      " block_9_project (Conv2D)       (None, 10, 10, 64)   24576       ['block_9_depthwise_relu[0][0]'] \n",
      "                                                                                                  \n",
      " block_9_project_BN (BatchNorma  (None, 10, 10, 64)  256         ['block_9_project[0][0]']        \n",
      " lization)                                                                                        \n",
      "                                                                                                  \n",
      " block_9_add (Add)              (None, 10, 10, 64)   0           ['block_8_add[0][0]',            \n",
      "                                                                  'block_9_project_BN[0][0]']     \n",
      "                                                                                                  \n",
      " block_10_expand (Conv2D)       (None, 10, 10, 384)  24576       ['block_9_add[0][0]']            \n",
      "                                                                                                  \n",
      " block_10_expand_BN (BatchNorma  (None, 10, 10, 384)  1536       ['block_10_expand[0][0]']        \n",
      " lization)                                                                                        \n",
      "                                                                                                  \n",
      " block_10_expand_relu (ReLU)    (None, 10, 10, 384)  0           ['block_10_expand_BN[0][0]']     \n",
      "                                                                                                  \n",
      " block_10_depthwise (DepthwiseC  (None, 10, 10, 384)  3456       ['block_10_expand_relu[0][0]']   \n",
      " onv2D)                                                                                           \n",
      "                                                                                                  \n",
      " block_10_depthwise_BN (BatchNo  (None, 10, 10, 384)  1536       ['block_10_depthwise[0][0]']     \n",
      " rmalization)                                                                                     \n",
      "                                                                                                  \n",
      " block_10_depthwise_relu (ReLU)  (None, 10, 10, 384)  0          ['block_10_depthwise_BN[0][0]']  \n",
      "                                                                                                  \n",
      " block_10_project (Conv2D)      (None, 10, 10, 96)   36864       ['block_10_depthwise_relu[0][0]']\n",
      "                                                                                                  \n",
      " block_10_project_BN (BatchNorm  (None, 10, 10, 96)  384         ['block_10_project[0][0]']       \n",
      " alization)                                                                                       \n",
      "                                                                                                  \n",
      " block_11_expand (Conv2D)       (None, 10, 10, 576)  55296       ['block_10_project_BN[0][0]']    \n",
      "                                                                                                  \n",
      " block_11_expand_BN (BatchNorma  (None, 10, 10, 576)  2304       ['block_11_expand[0][0]']        \n",
      " lization)                                                                                        \n",
      "                                                                                                  \n",
      " block_11_expand_relu (ReLU)    (None, 10, 10, 576)  0           ['block_11_expand_BN[0][0]']     \n",
      "                                                                                                  \n",
      " block_11_depthwise (DepthwiseC  (None, 10, 10, 576)  5184       ['block_11_expand_relu[0][0]']   \n",
      " onv2D)                                                                                           \n",
      "                                                                                                  \n",
      " block_11_depthwise_BN (BatchNo  (None, 10, 10, 576)  2304       ['block_11_depthwise[0][0]']     \n",
      " rmalization)                                                                                     \n",
      "                                                                                                  \n",
      " block_11_depthwise_relu (ReLU)  (None, 10, 10, 576)  0          ['block_11_depthwise_BN[0][0]']  \n",
      "                                                                                                  \n",
      " block_11_project (Conv2D)      (None, 10, 10, 96)   55296       ['block_11_depthwise_relu[0][0]']\n",
      "                                                                                                  \n",
      " block_11_project_BN (BatchNorm  (None, 10, 10, 96)  384         ['block_11_project[0][0]']       \n",
      " alization)                                                                                       \n",
      "                                                                                                  \n",
      " block_11_add (Add)             (None, 10, 10, 96)   0           ['block_10_project_BN[0][0]',    \n",
      "                                                                  'block_11_project_BN[0][0]']    \n",
      "                                                                                                  \n",
      " block_12_expand (Conv2D)       (None, 10, 10, 576)  55296       ['block_11_add[0][0]']           \n",
      "                                                                                                  \n",
      " block_12_expand_BN (BatchNorma  (None, 10, 10, 576)  2304       ['block_12_expand[0][0]']        \n",
      " lization)                                                                                        \n",
      "                                                                                                  \n",
      " block_12_expand_relu (ReLU)    (None, 10, 10, 576)  0           ['block_12_expand_BN[0][0]']     \n",
      "                                                                                                  \n",
      " block_12_depthwise (DepthwiseC  (None, 10, 10, 576)  5184       ['block_12_expand_relu[0][0]']   \n",
      " onv2D)                                                                                           \n",
      "                                                                                                  \n",
      " block_12_depthwise_BN (BatchNo  (None, 10, 10, 576)  2304       ['block_12_depthwise[0][0]']     \n",
      " rmalization)                                                                                     \n",
      "                                                                                                  \n",
      " block_12_depthwise_relu (ReLU)  (None, 10, 10, 576)  0          ['block_12_depthwise_BN[0][0]']  \n",
      "                                                                                                  \n",
      " block_12_project (Conv2D)      (None, 10, 10, 96)   55296       ['block_12_depthwise_relu[0][0]']\n",
      "                                                                                                  \n",
      " block_12_project_BN (BatchNorm  (None, 10, 10, 96)  384         ['block_12_project[0][0]']       \n",
      " alization)                                                                                       \n",
      "                                                                                                  \n",
      " block_12_add (Add)             (None, 10, 10, 96)   0           ['block_11_add[0][0]',           \n",
      "                                                                  'block_12_project_BN[0][0]']    \n",
      "                                                                                                  \n",
      " block_13_expand (Conv2D)       (None, 10, 10, 576)  55296       ['block_12_add[0][0]']           \n",
      "                                                                                                  \n",
      " block_13_expand_BN (BatchNorma  (None, 10, 10, 576)  2304       ['block_13_expand[0][0]']        \n",
      " lization)                                                                                        \n",
      "                                                                                                  \n",
      " block_13_expand_relu (ReLU)    (None, 10, 10, 576)  0           ['block_13_expand_BN[0][0]']     \n",
      "                                                                                                  \n",
      " block_13_pad (ZeroPadding2D)   (None, 11, 11, 576)  0           ['block_13_expand_relu[0][0]']   \n",
      "                                                                                                  \n",
      " block_13_depthwise (DepthwiseC  (None, 5, 5, 576)   5184        ['block_13_pad[0][0]']           \n",
      " onv2D)                                                                                           \n",
      "                                                                                                  \n",
      " block_13_depthwise_BN (BatchNo  (None, 5, 5, 576)   2304        ['block_13_depthwise[0][0]']     \n",
      " rmalization)                                                                                     \n",
      "                                                                                                  \n",
      " block_13_depthwise_relu (ReLU)  (None, 5, 5, 576)   0           ['block_13_depthwise_BN[0][0]']  \n",
      "                                                                                                  \n",
      " block_13_project (Conv2D)      (None, 5, 5, 160)    92160       ['block_13_depthwise_relu[0][0]']\n",
      "                                                                                                  \n",
      " block_13_project_BN (BatchNorm  (None, 5, 5, 160)   640         ['block_13_project[0][0]']       \n",
      " alization)                                                                                       \n",
      "                                                                                                  \n",
      " block_14_expand (Conv2D)       (None, 5, 5, 960)    153600      ['block_13_project_BN[0][0]']    \n",
      "                                                                                                  \n",
      " block_14_expand_BN (BatchNorma  (None, 5, 5, 960)   3840        ['block_14_expand[0][0]']        \n",
      " lization)                                                                                        \n",
      "                                                                                                  \n",
      " block_14_expand_relu (ReLU)    (None, 5, 5, 960)    0           ['block_14_expand_BN[0][0]']     \n",
      "                                                                                                  \n",
      " block_14_depthwise (DepthwiseC  (None, 5, 5, 960)   8640        ['block_14_expand_relu[0][0]']   \n",
      " onv2D)                                                                                           \n",
      "                                                                                                  \n",
      " block_14_depthwise_BN (BatchNo  (None, 5, 5, 960)   3840        ['block_14_depthwise[0][0]']     \n",
      " rmalization)                                                                                     \n",
      "                                                                                                  \n",
      " block_14_depthwise_relu (ReLU)  (None, 5, 5, 960)   0           ['block_14_depthwise_BN[0][0]']  \n",
      "                                                                                                  \n",
      " block_14_project (Conv2D)      (None, 5, 5, 160)    153600      ['block_14_depthwise_relu[0][0]']\n",
      "                                                                                                  \n",
      " block_14_project_BN (BatchNorm  (None, 5, 5, 160)   640         ['block_14_project[0][0]']       \n",
      " alization)                                                                                       \n",
      "                                                                                                  \n",
      " block_14_add (Add)             (None, 5, 5, 160)    0           ['block_13_project_BN[0][0]',    \n",
      "                                                                  'block_14_project_BN[0][0]']    \n",
      "                                                                                                  \n",
      " block_15_expand (Conv2D)       (None, 5, 5, 960)    153600      ['block_14_add[0][0]']           \n",
      "                                                                                                  \n",
      " block_15_expand_BN (BatchNorma  (None, 5, 5, 960)   3840        ['block_15_expand[0][0]']        \n",
      " lization)                                                                                        \n",
      "                                                                                                  \n",
      " block_15_expand_relu (ReLU)    (None, 5, 5, 960)    0           ['block_15_expand_BN[0][0]']     \n",
      "                                                                                                  \n",
      " block_15_depthwise (DepthwiseC  (None, 5, 5, 960)   8640        ['block_15_expand_relu[0][0]']   \n",
      " onv2D)                                                                                           \n",
      "                                                                                                  \n",
      " block_15_depthwise_BN (BatchNo  (None, 5, 5, 960)   3840        ['block_15_depthwise[0][0]']     \n",
      " rmalization)                                                                                     \n",
      "                                                                                                  \n",
      " block_15_depthwise_relu (ReLU)  (None, 5, 5, 960)   0           ['block_15_depthwise_BN[0][0]']  \n",
      "                                                                                                  \n",
      " block_15_project (Conv2D)      (None, 5, 5, 160)    153600      ['block_15_depthwise_relu[0][0]']\n",
      "                                                                                                  \n",
      " block_15_project_BN (BatchNorm  (None, 5, 5, 160)   640         ['block_15_project[0][0]']       \n",
      " alization)                                                                                       \n",
      "                                                                                                  \n",
      " block_15_add (Add)             (None, 5, 5, 160)    0           ['block_14_add[0][0]',           \n",
      "                                                                  'block_15_project_BN[0][0]']    \n",
      "                                                                                                  \n",
      " block_16_expand (Conv2D)       (None, 5, 5, 960)    153600      ['block_15_add[0][0]']           \n",
      "                                                                                                  \n",
      " block_16_expand_BN (BatchNorma  (None, 5, 5, 960)   3840        ['block_16_expand[0][0]']        \n",
      " lization)                                                                                        \n",
      "                                                                                                  \n",
      " block_16_expand_relu (ReLU)    (None, 5, 5, 960)    0           ['block_16_expand_BN[0][0]']     \n",
      "                                                                                                  \n",
      " block_16_depthwise (DepthwiseC  (None, 5, 5, 960)   8640        ['block_16_expand_relu[0][0]']   \n",
      " onv2D)                                                                                           \n",
      "                                                                                                  \n",
      " block_16_depthwise_BN (BatchNo  (None, 5, 5, 960)   3840        ['block_16_depthwise[0][0]']     \n",
      " rmalization)                                                                                     \n",
      "                                                                                                  \n",
      " block_16_depthwise_relu (ReLU)  (None, 5, 5, 960)   0           ['block_16_depthwise_BN[0][0]']  \n",
      "                                                                                                  \n",
      " block_16_project (Conv2D)      (None, 5, 5, 320)    307200      ['block_16_depthwise_relu[0][0]']\n",
      "                                                                                                  \n",
      " block_16_project_BN (BatchNorm  (None, 5, 5, 320)   1280        ['block_16_project[0][0]']       \n",
      " alization)                                                                                       \n",
      "                                                                                                  \n",
      " Conv_1 (Conv2D)                (None, 5, 5, 1280)   409600      ['block_16_project_BN[0][0]']    \n",
      "                                                                                                  \n",
      " Conv_1_bn (BatchNormalization)  (None, 5, 5, 1280)  5120        ['Conv_1[0][0]']                 \n",
      "                                                                                                  \n",
      " out_relu (ReLU)                (None, 5, 5, 1280)   0           ['Conv_1_bn[0][0]']              \n",
      "                                                                                                  \n",
      " global_average_pooling2d_1 (Gl  (None, 1280)        0           ['out_relu[0][0]']               \n",
      " obalAveragePooling2D)                                                                            \n",
      "                                                                                                  \n",
      " dense_4 (Dense)                (None, 1024)         1311744     ['global_average_pooling2d_1[0][0\n",
      "                                                                 ]']                              \n",
      "                                                                                                  \n",
      " dropout_2 (Dropout)            (None, 1024)         0           ['dense_4[0][0]']                \n",
      "                                                                                                  \n",
      " dense_5 (Dense)                (None, 5)            5125        ['dropout_2[0][0]']              \n",
      "                                                                                                  \n",
      "==================================================================================================\n",
      "Total params: 3,574,853\n",
      "Trainable params: 1,316,869\n",
      "Non-trainable params: 2,257,984\n",
      "__________________________________________________________________________________________________\n"
     ]
    }
   ],
   "source": [
    "from tensorflow.keras.applications import MobileNetV2\n",
    "from tensorflow.keras.layers import Dense, GlobalAveragePooling2D, Dropout\n",
    "from tensorflow.keras.models import Model\n",
    "from tensorflow.keras.optimizers import Adam\n",
    "\n",
    "# Загрузка предобученной модели MobileNetV2 без последнего слоя\n",
    "mobile_net_v2_model = MobileNetV2(weights='imagenet', include_top=False, input_shape=(IMAGE_SIZE, IMAGE_SIZE, 3))\n",
    "\n",
    "# Замораживаем веса предобученной модели\n",
    "for layer in mobile_net_v2_model.layers:\n",
    "    layer.trainable = False\n",
    "\n",
    "# Добавление новых слоев\n",
    "x = mobile_net_v2_model.output\n",
    "x = GlobalAveragePooling2D()(x)                            # Добавляем глобальный средний слой пулинга\n",
    "x = Dense(1024, activation='relu')(x)                      # Полносвязный слой на 1024 нейрона с relu активацией\n",
    "x = Dropout(0.5)(x)                                        # Слой Dropout для борьбы с переобучением\n",
    "predictions = Dense(num_classes, activation='softmax')(x)  # Выходной слой на 5 классов\n",
    "\n",
    "mobile_net_v2_fine_tune_model = Model(inputs=mobile_net_v2_model.input, outputs=predictions)\n",
    "\n",
    "mobile_net_v2_fine_tune_model.compile(optimizer=Adam(lr=0.0001), loss='categorical_crossentropy', metrics=['accuracy'])\n",
    "\n",
    "mobile_net_v2_fine_tune_model.summary()"
   ]
  },
  {
   "cell_type": "markdown",
   "metadata": {},
   "source": [
    "#### Train model"
   ]
  },
  {
   "cell_type": "code",
   "execution_count": 37,
   "metadata": {
    "execution": {
     "iopub.execute_input": "2024-05-10T13:01:38.569578Z",
     "iopub.status.busy": "2024-05-10T13:01:38.569221Z",
     "iopub.status.idle": "2024-05-10T13:05:26.694303Z",
     "shell.execute_reply": "2024-05-10T13:05:26.693563Z",
     "shell.execute_reply.started": "2024-05-10T13:01:38.569555Z"
    },
    "tags": []
   },
   "outputs": [
    {
     "name": "stderr",
     "output_type": "stream",
     "text": [
      "2024-05-10 13:01:38.960861: I tensorflow/core/common_runtime/executor.cc:1197] [/device:CPU:0] (DEBUG INFO) Executor start aborting (this does not indicate an error and you can ignore this message): INVALID_ARGUMENT: You must feed a value for placeholder tensor 'Placeholder/_0' with dtype int32\n",
      "\t [[{{node Placeholder/_0}}]]\n"
     ]
    },
    {
     "name": "stdout",
     "output_type": "stream",
     "text": [
      "Epoch 1/20\n",
      "25/25 [==============================] - ETA: 0s - loss: 1.1278 - accuracy: 0.6538"
     ]
    },
    {
     "name": "stderr",
     "output_type": "stream",
     "text": [
      "2024-05-10 13:01:51.270833: I tensorflow/core/common_runtime/executor.cc:1197] [/device:CPU:0] (DEBUG INFO) Executor start aborting (this does not indicate an error and you can ignore this message): INVALID_ARGUMENT: You must feed a value for placeholder tensor 'Placeholder/_0' with dtype int32\n",
      "\t [[{{node Placeholder/_0}}]]\n"
     ]
    },
    {
     "name": "stdout",
     "output_type": "stream",
     "text": [
      "25/25 [==============================] - 14s 497ms/step - loss: 1.1278 - accuracy: 0.6538 - val_loss: 0.6375 - val_accuracy: 0.7900\n",
      "Epoch 2/20\n",
      "25/25 [==============================] - 11s 442ms/step - loss: 0.5797 - accuracy: 0.8062 - val_loss: 0.5605 - val_accuracy: 0.8050\n",
      "Epoch 3/20\n",
      "25/25 [==============================] - 11s 447ms/step - loss: 0.5413 - accuracy: 0.8037 - val_loss: 0.4533 - val_accuracy: 0.8450\n",
      "Epoch 4/20\n",
      "25/25 [==============================] - 11s 443ms/step - loss: 0.4380 - accuracy: 0.8550 - val_loss: 0.5422 - val_accuracy: 0.8250\n",
      "Epoch 5/20\n",
      "25/25 [==============================] - 11s 439ms/step - loss: 0.3811 - accuracy: 0.8587 - val_loss: 0.4791 - val_accuracy: 0.8400\n",
      "Epoch 6/20\n",
      "25/25 [==============================] - 11s 439ms/step - loss: 0.3183 - accuracy: 0.8875 - val_loss: 0.4705 - val_accuracy: 0.8300\n",
      "Epoch 7/20\n",
      "25/25 [==============================] - 11s 450ms/step - loss: 0.3838 - accuracy: 0.8575 - val_loss: 0.4182 - val_accuracy: 0.8550\n",
      "Epoch 8/20\n",
      "25/25 [==============================] - 11s 458ms/step - loss: 0.3412 - accuracy: 0.8687 - val_loss: 0.5643 - val_accuracy: 0.8150\n",
      "Epoch 9/20\n",
      "25/25 [==============================] - 11s 454ms/step - loss: 0.3687 - accuracy: 0.8662 - val_loss: 0.4009 - val_accuracy: 0.8550\n",
      "Epoch 10/20\n",
      "25/25 [==============================] - 11s 450ms/step - loss: 0.2697 - accuracy: 0.9000 - val_loss: 0.3948 - val_accuracy: 0.8700\n",
      "Epoch 11/20\n",
      "25/25 [==============================] - 11s 437ms/step - loss: 0.2662 - accuracy: 0.8988 - val_loss: 0.5945 - val_accuracy: 0.8300\n",
      "Epoch 12/20\n",
      "25/25 [==============================] - 11s 443ms/step - loss: 0.2574 - accuracy: 0.9013 - val_loss: 0.4601 - val_accuracy: 0.8550\n",
      "Epoch 13/20\n",
      "25/25 [==============================] - 11s 441ms/step - loss: 0.2950 - accuracy: 0.8950 - val_loss: 0.5417 - val_accuracy: 0.8400\n",
      "Epoch 14/20\n",
      "25/25 [==============================] - 12s 469ms/step - loss: 0.2544 - accuracy: 0.9112 - val_loss: 0.4928 - val_accuracy: 0.8300\n",
      "Epoch 15/20\n",
      "25/25 [==============================] - 11s 451ms/step - loss: 0.2086 - accuracy: 0.9175 - val_loss: 0.6264 - val_accuracy: 0.8100\n",
      "Epoch 16/20\n",
      "25/25 [==============================] - 11s 450ms/step - loss: 0.2069 - accuracy: 0.9312 - val_loss: 0.4796 - val_accuracy: 0.8450\n",
      "Epoch 17/20\n",
      "25/25 [==============================] - 11s 454ms/step - loss: 0.2206 - accuracy: 0.9175 - val_loss: 0.3961 - val_accuracy: 0.8700\n",
      "Epoch 18/20\n",
      "25/25 [==============================] - 11s 440ms/step - loss: 0.1898 - accuracy: 0.9312 - val_loss: 0.4528 - val_accuracy: 0.8650\n",
      "Epoch 19/20\n",
      "25/25 [==============================] - 11s 456ms/step - loss: 0.2602 - accuracy: 0.9000 - val_loss: 0.5162 - val_accuracy: 0.8750\n",
      "Epoch 20/20\n",
      "25/25 [==============================] - 11s 446ms/step - loss: 0.2041 - accuracy: 0.9287 - val_loss: 0.4462 - val_accuracy: 0.8500\n"
     ]
    },
    {
     "data": {
      "image/png": "[encoded data removed]",
      "text/plain": [
       "<Figure size 576x576 with 1 Axes>"
      ]
     },
     "metadata": {
      "needs_background": "light"
     },
     "output_type": "display_data"
    }
   ],
   "source": [
    "mobile_net_v2_fine_tune_history = mobile_net_v2_fine_tune_model.fit(\n",
    "    train_generator,\n",
    "    epochs=NUM_EPOCHS,\n",
    "    validation_data=test_generator\n",
    ")\n",
    "show_history(mobile_net_v2_fine_tune_history, 'MobileNetV2 Pretrained')"
   ]
  },
  {
   "cell_type": "markdown",
   "metadata": {},
   "source": [
    "#### Visualization result"
   ]
  },
  {
   "cell_type": "code",
   "execution_count": 38,
   "metadata": {
    "execution": {
     "iopub.execute_input": "2024-05-10T13:05:26.695976Z",
     "iopub.status.busy": "2024-05-10T13:05:26.695463Z",
     "iopub.status.idle": "2024-05-10T13:05:28.517652Z",
     "shell.execute_reply": "2024-05-10T13:05:28.516935Z",
     "shell.execute_reply.started": "2024-05-10T13:05:26.695936Z"
    },
    "tags": []
   },
   "outputs": [
    {
     "name": "stderr",
     "output_type": "stream",
     "text": [
      "2024-05-10 13:05:26.986095: I tensorflow/core/common_runtime/executor.cc:1197] [/device:CPU:0] (DEBUG INFO) Executor start aborting (this does not indicate an error and you can ignore this message): INVALID_ARGUMENT: You must feed a value for placeholder tensor 'Placeholder/_0' with dtype int32\n",
      "\t [[{{node Placeholder/_0}}]]\n"
     ]
    },
    {
     "name": "stdout",
     "output_type": "stream",
     "text": [
      "7/7 [==============================] - 2s 190ms/step - loss: 0.4462 - accuracy: 0.8500\n",
      "MobileNetV2 Pretrained accuracy: 0.8500000238418579\n"
     ]
    }
   ],
   "source": [
    "print_accuracy(mobile_net_v2_fine_tune_model, test_generator, 'MobileNetV2 Pretrained')"
   ]
  },
  {
   "cell_type": "code",
   "execution_count": 39,
   "metadata": {
    "execution": {
     "iopub.execute_input": "2024-05-10T13:05:28.519025Z",
     "iopub.status.busy": "2024-05-10T13:05:28.518587Z",
     "iopub.status.idle": "2024-05-10T13:05:31.780926Z",
     "shell.execute_reply": "2024-05-10T13:05:31.780285Z",
     "shell.execute_reply.started": "2024-05-10T13:05:28.519002Z"
    },
    "tags": []
   },
   "outputs": [
    {
     "name": "stdout",
     "output_type": "stream",
     "text": [
      "WARNING:tensorflow:5 out of the last 15 calls to <function Model.make_predict_function.<locals>.predict_function at 0x7f22d91b2ef0> triggered tf.function retracing. Tracing is expensive and the excessive number of tracings could be due to (1) creating @tf.function repeatedly in a loop, (2) passing tensors with different shapes, (3) passing Python objects instead of tensors. For (1), please define your @tf.function outside of the loop. For (2), @tf.function has reduce_retracing=True option that can avoid unnecessary retracing. For (3), please refer to https://www.tensorflow.org/guide/function#controlling_retracing and https://www.tensorflow.org/api_docs/python/tf/function for  more details.\n"
     ]
    },
    {
     "name": "stderr",
     "output_type": "stream",
     "text": [
      "WARNING:tensorflow:5 out of the last 15 calls to <function Model.make_predict_function.<locals>.predict_function at 0x7f22d91b2ef0> triggered tf.function retracing. Tracing is expensive and the excessive number of tracings could be due to (1) creating @tf.function repeatedly in a loop, (2) passing tensors with different shapes, (3) passing Python objects instead of tensors. For (1), please define your @tf.function outside of the loop. For (2), @tf.function has reduce_retracing=True option that can avoid unnecessary retracing. For (3), please refer to https://www.tensorflow.org/guide/function#controlling_retracing and https://www.tensorflow.org/api_docs/python/tf/function for  more details.\n"
     ]
    },
    {
     "name": "stdout",
     "output_type": "stream",
     "text": [
      "1/1 [==============================] - 1s 591ms/step\n",
      "1/1 [==============================] - 0s 83ms/step\n",
      "1/1 [==============================] - 0s 78ms/step\n",
      "1/1 [==============================] - 0s 78ms/step\n",
      "1/1 [==============================] - 0s 80ms/step\n",
      "1/1 [==============================] - 0s 78ms/step\n",
      "1/1 [==============================] - 1s 554ms/step\n"
     ]
    },
    {
     "data": {
      "image/png": "[encoded data removed]",
      "text/plain": [
       "<Figure size 720x504 with 2 Axes>"
      ]
     },
     "metadata": {
      "needs_background": "light"
     },
     "output_type": "display_data"
    }
   ],
   "source": [
    "show_confusion_matrix(mobile_net_v2_fine_tune_model, test_generator, 'MobileNetV2 Pretrained')"
   ]
  },
  {
   "cell_type": "code",
   "execution_count": null,
   "metadata": {},
   "outputs": [],
   "source": []
  }
 ],
 "metadata": {
  "colab": {
   "collapsed_sections": [
    "jR7VCBPQjExX",
    "PSgmQKjLJCdM",
    "2gedE1-VJWG8",
    "upqGPuRVzwYc",
    "man0UyAcJFnx",
    "qh8evj8YlRd8",
    "nLAwTjUTllA3",
    "Ul82idP2lxRD",
    "Bm6qouBazXMH",
    "ODuHW6LIzXML",
    "EpkC8kUe4O1o",
    "kC3yGc2L6eNu",
    "mwoqKD027Fxb"
   ],
   "provenance": []
  },
  "kernelspec": {
   "display_name": "DataSphere Kernel",
   "language": "python",
   "name": "python3"
  },
  "language_info": {
   "codemirror_mode": {
    "name": "ipython",
    "version": 3
   },
   "file_extension": ".py",
   "mimetype": "text/x-python",
   "name": "python",
   "nbconvert_exporter": "python",
   "pygments_lexer": "ipython3",
   "version": "3.10.12"
  }
 },
 "nbformat": 4,
 "nbformat_minor": 4
}
